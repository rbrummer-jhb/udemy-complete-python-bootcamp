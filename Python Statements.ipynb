{
 "cells": [
  {
   "cell_type": "markdown",
   "id": "a1e0ad11",
   "metadata": {},
   "source": [
    "# If, Elif & Else Statements"
   ]
  },
  {
   "cell_type": "markdown",
   "id": "48584a21",
   "metadata": {},
   "source": [
    "**Control Flow** allows us to execute certain code based on certain conditions.\n",
    "\n",
    "The syntax makes use of colons `:` and whitespace.\n",
    "\n",
    "```python\n",
    "if some_condition:\n",
    "    # execute some code\n",
    "elif some_other_condition\n",
    "    # execute some other code\n",
    "else\n",
    "    # do something else\n",
    "```"
   ]
  },
  {
   "cell_type": "code",
   "execution_count": 3,
   "id": "73d3070c",
   "metadata": {},
   "outputs": [
    {
     "name": "stdout",
     "output_type": "stream",
     "text": [
      "ITS TRUE!\n"
     ]
    }
   ],
   "source": [
    "if True:\n",
    "    print('ITS TRUE!')"
   ]
  },
  {
   "cell_type": "code",
   "execution_count": 1,
   "id": "85ffdf7d",
   "metadata": {},
   "outputs": [
    {
     "name": "stdout",
     "output_type": "stream",
     "text": [
      "FEED ME!\n"
     ]
    }
   ],
   "source": [
    "hungry = True\n",
    "\n",
    "if hungry:\n",
    "    print('FEED ME!')\n",
    "else:\n",
    "    print(\"I'm not hungry\")"
   ]
  },
  {
   "cell_type": "markdown",
   "id": "a35f22c3",
   "metadata": {},
   "source": [
    "loc = 'Bank'\n",
    "\n",
    "if loc == 'Auto Shop':\n",
    "    print(\"Cars are cool!\")\n",
    "elif loc == 'Bank':\n",
    "    print(\"Money is cool!\")\n",
    "elif loc == 'Store':\n",
    "    print(\"Welcome to the store!\")\n",
    "else:\n",
    "    print(\"I do not know much.\")"
   ]
  },
  {
   "cell_type": "code",
   "execution_count": 4,
   "id": "69f22465",
   "metadata": {},
   "outputs": [
    {
     "name": "stdout",
     "output_type": "stream",
     "text": [
      "Hello Sam\n"
     ]
    }
   ],
   "source": [
    "name = 'Sam'\n",
    "\n",
    "if name == 'Frank':\n",
    "    print(\"Hello Frank\")\n",
    "elif name == 'Sam':\n",
    "    print(\"Hello Sam\")\n",
    "else:\n",
    "    print(\"What is your name?\")"
   ]
  },
  {
   "cell_type": "markdown",
   "id": "44de0fa1",
   "metadata": {},
   "source": [
    "# For Loops"
   ]
  },
  {
   "cell_type": "markdown",
   "id": "c8df8f58",
   "metadata": {},
   "source": [
    "For Loops can be used to iterate through Python iterables."
   ]
  },
  {
   "cell_type": "markdown",
   "id": "fc66975f",
   "metadata": {},
   "source": [
    "```python\n",
    "my_iterable = [1, 2, 3]\n",
    "for item_name in my_iterable:\n",
    "    print(item_name)\n",
    "```"
   ]
  },
  {
   "cell_type": "code",
   "execution_count": 3,
   "id": "6677df8b",
   "metadata": {},
   "outputs": [],
   "source": [
    "mylist = [1,2,3,4,5,6,7,8,9,10]"
   ]
  },
  {
   "cell_type": "code",
   "execution_count": 8,
   "id": "5c63dbbd",
   "metadata": {},
   "outputs": [
    {
     "name": "stdout",
     "output_type": "stream",
     "text": [
      "1\n",
      "2\n",
      "3\n",
      "4\n",
      "5\n",
      "6\n",
      "7\n",
      "8\n",
      "9\n",
      "10\n"
     ]
    }
   ],
   "source": [
    "for x in mylist:\n",
    "    print(x)"
   ]
  },
  {
   "cell_type": "code",
   "execution_count": 8,
   "id": "6ff15fad",
   "metadata": {},
   "outputs": [
    {
     "name": "stdout",
     "output_type": "stream",
     "text": [
      "Odd number: 1\n",
      "2\n",
      "Odd number: 3\n",
      "4\n",
      "Odd number: 5\n",
      "6\n",
      "Odd number: 7\n",
      "8\n",
      "Odd number: 9\n",
      "10\n"
     ]
    }
   ],
   "source": [
    "for num in mylist:\n",
    "    # Check for even\n",
    "    if num % 2 == 0:\n",
    "        print(num)\n",
    "    else:\n",
    "        print(f'Odd number: {num}')"
   ]
  },
  {
   "cell_type": "code",
   "execution_count": 9,
   "id": "ea1b7c61",
   "metadata": {},
   "outputs": [
    {
     "name": "stdout",
     "output_type": "stream",
     "text": [
      "1\n",
      "3\n",
      "6\n",
      "10\n",
      "15\n",
      "21\n",
      "28\n",
      "36\n",
      "45\n",
      "55\n"
     ]
    }
   ],
   "source": [
    "list_sum = 0\n",
    "\n",
    "for num in mylist:\n",
    "    list_sum = list_sum + num\n",
    "    list_sum += num\n",
    "    print(list_sum)"
   ]
  },
  {
   "cell_type": "code",
   "execution_count": 10,
   "id": "ddf3096b",
   "metadata": {},
   "outputs": [
    {
     "name": "stdout",
     "output_type": "stream",
     "text": [
      "H\n",
      "e\n",
      "l\n",
      "l\n",
      "o\n",
      " \n",
      "W\n",
      "o\n",
      "r\n",
      "l\n",
      "d\n"
     ]
    }
   ],
   "source": [
    "for x in 'Hello World':\n",
    "    print(x)"
   ]
  },
  {
   "cell_type": "code",
   "execution_count": 30,
   "id": "567196cf",
   "metadata": {},
   "outputs": [
    {
     "name": "stdout",
     "output_type": "stream",
     "text": [
      "H\n",
      "e\n",
      "l\n",
      "l\n",
      "o\n",
      " \n",
      "W\n",
      "o\n",
      "r\n",
      "l\n",
      "d\n"
     ]
    }
   ],
   "source": [
    "word = 'Hello World'\n",
    "for letter in word:\n",
    "    print(letter)"
   ]
  },
  {
   "cell_type": "code",
   "execution_count": 31,
   "id": "1e68c9ca",
   "metadata": {},
   "outputs": [
    {
     "name": "stdout",
     "output_type": "stream",
     "text": [
      "1\n",
      "2\n",
      "3\n",
      "s\n"
     ]
    }
   ],
   "source": [
    "tup = (1,2,3,'s')\n",
    "\n",
    "for item in tup:\n",
    "    print(item)"
   ]
  },
  {
   "cell_type": "code",
   "execution_count": 34,
   "id": "1c76d89e",
   "metadata": {},
   "outputs": [],
   "source": [
    "mylist = [(1,2), (3,4), (5,6), (7,8)]"
   ]
  },
  {
   "cell_type": "code",
   "execution_count": 35,
   "id": "c5fcf196",
   "metadata": {},
   "outputs": [
    {
     "data": {
      "text/plain": [
       "4"
      ]
     },
     "execution_count": 35,
     "metadata": {},
     "output_type": "execute_result"
    }
   ],
   "source": [
    "len(mylist)"
   ]
  },
  {
   "cell_type": "code",
   "execution_count": 15,
   "id": "e405d382",
   "metadata": {},
   "outputs": [
    {
     "name": "stdout",
     "output_type": "stream",
     "text": [
      "(1, 2)\n",
      "(3, 4)\n",
      "(5, 6)\n",
      "(7, 8)\n"
     ]
    }
   ],
   "source": [
    "for item in mylist:\n",
    "    print(item)"
   ]
  },
  {
   "cell_type": "code",
   "execution_count": 38,
   "id": "302d56d0",
   "metadata": {},
   "outputs": [
    {
     "name": "stdout",
     "output_type": "stream",
     "text": [
      "2\n",
      "4\n",
      "6\n",
      "8\n"
     ]
    }
   ],
   "source": [
    "for (a,b) in mylist:\n",
    "    print(b)"
   ]
  },
  {
   "cell_type": "code",
   "execution_count": 39,
   "id": "e77193a7",
   "metadata": {},
   "outputs": [],
   "source": [
    "mylist = [(1,2,3), (4,5,6), (7,8,9), (1,2,4)]"
   ]
  },
  {
   "cell_type": "code",
   "execution_count": 40,
   "id": "0dfd65af",
   "metadata": {},
   "outputs": [
    {
     "name": "stdout",
     "output_type": "stream",
     "text": [
      "2\n",
      "5\n",
      "8\n",
      "2\n"
     ]
    }
   ],
   "source": [
    "for a,b,c in mylist:\n",
    "    print(b)"
   ]
  },
  {
   "cell_type": "code",
   "execution_count": 42,
   "id": "9be75afe",
   "metadata": {},
   "outputs": [
    {
     "name": "stdout",
     "output_type": "stream",
     "text": [
      "k1\n",
      "k2\n",
      "k3\n"
     ]
    }
   ],
   "source": [
    "d = {'k1':1, 'k2':2, 'k3':3}\n",
    "\n",
    "for item in d:\n",
    "    print(item)"
   ]
  },
  {
   "cell_type": "code",
   "execution_count": 24,
   "id": "b4da4384",
   "metadata": {},
   "outputs": [
    {
     "name": "stdout",
     "output_type": "stream",
     "text": [
      "('k1', 1)\n",
      "('k2', 2)\n",
      "('k3', 3)\n"
     ]
    }
   ],
   "source": [
    "for item in d.items():\n",
    "    print(item)"
   ]
  },
  {
   "cell_type": "code",
   "execution_count": 43,
   "id": "f48c8901",
   "metadata": {},
   "outputs": [
    {
     "name": "stdout",
     "output_type": "stream",
     "text": [
      "1\n",
      "2\n",
      "3\n"
     ]
    }
   ],
   "source": [
    "for key, value in d.items():\n",
    "    print(key, value)"
   ]
  },
  {
   "cell_type": "code",
   "execution_count": 27,
   "id": "41f22c8b",
   "metadata": {},
   "outputs": [
    {
     "name": "stdout",
     "output_type": "stream",
     "text": [
      "1\n",
      "2\n",
      "3\n"
     ]
    }
   ],
   "source": [
    "for value in d.values():\n",
    "    print(value)"
   ]
  },
  {
   "cell_type": "markdown",
   "id": "9f71938e",
   "metadata": {},
   "source": [
    "# While Loops"
   ]
  },
  {
   "cell_type": "markdown",
   "id": "94ca63a4",
   "metadata": {},
   "source": [
    "While Loops will continue to execute a block of code while some condition remains True.  \n"
   ]
  },
  {
   "cell_type": "markdown",
   "id": "05f4f410",
   "metadata": {},
   "source": [
    "```python\n",
    "while some_boolean_condition:\n",
    "    # do something\n",
    "else:\n",
    "    # do something different\n",
    "```"
   ]
  },
  {
   "cell_type": "code",
   "execution_count": 29,
   "id": "06c296dc",
   "metadata": {},
   "outputs": [
    {
     "name": "stdout",
     "output_type": "stream",
     "text": [
      "The current value of x is 0\n",
      "The current value of x is 1\n",
      "The current value of x is 2\n",
      "The current value of x is 3\n",
      "The current value of x is 4\n",
      "X IS NOT LESS THAN 5\n"
     ]
    }
   ],
   "source": [
    "x = 0\n",
    "\n",
    "while x < 5:\n",
    "    print(f'The current value of x is {x}')\n",
    "    x += 1\n",
    "else:\n",
    "    print(\"X IS NOT LESS THAN 5\")"
   ]
  },
  {
   "cell_type": "markdown",
   "id": "69a9dcc7",
   "metadata": {},
   "source": [
    "## break, continue, pass\n",
    "\n",
    "`break` : Breaks out of the current closest enclosing loop.  \n",
    "`continue` : Goes to the top of the closest enclosing loop.  \n",
    "`pass` : Does nothing at all. *(handy for checking if execution reaches certain code)*"
   ]
  },
  {
   "cell_type": "code",
   "execution_count": 44,
   "id": "eeb044d2",
   "metadata": {},
   "outputs": [
    {
     "name": "stdout",
     "output_type": "stream",
     "text": [
      "1\n",
      "2\n",
      "3\n",
      "end of my script\n"
     ]
    }
   ],
   "source": [
    "x = [1,2,3]\n",
    "\n",
    "for item in x:\n",
    "    # comment\n",
    "    print(item)\n",
    "    pass\n",
    "\n",
    "print('end of my script')"
   ]
  },
  {
   "cell_type": "code",
   "execution_count": 32,
   "id": "f017121f",
   "metadata": {},
   "outputs": [
    {
     "name": "stdout",
     "output_type": "stream",
     "text": [
      "S\n",
      "m\n",
      "m\n",
      "y\n"
     ]
    }
   ],
   "source": [
    "for letter in 'Sammy':\n",
    "    if letter == 'a':\n",
    "        continue\n",
    "    print(letter)"
   ]
  },
  {
   "cell_type": "code",
   "execution_count": 33,
   "id": "80c4dcef",
   "metadata": {},
   "outputs": [
    {
     "name": "stdout",
     "output_type": "stream",
     "text": [
      "S\n"
     ]
    }
   ],
   "source": [
    "for letter in 'Sammy':\n",
    "    if letter =='a':\n",
    "        break\n",
    "    print(letter)"
   ]
  },
  {
   "cell_type": "code",
   "execution_count": 35,
   "id": "3ffd1d10",
   "metadata": {},
   "outputs": [
    {
     "name": "stdout",
     "output_type": "stream",
     "text": [
      "0\n",
      "1\n"
     ]
    }
   ],
   "source": [
    "x = 0\n",
    "\n",
    "while x < 5:\n",
    "    if x == 2:\n",
    "        break\n",
    "    print(x)\n",
    "    x += 1"
   ]
  },
  {
   "cell_type": "markdown",
   "id": "53242194",
   "metadata": {},
   "source": [
    "# Useful Operators"
   ]
  },
  {
   "cell_type": "code",
   "execution_count": 37,
   "id": "037d9415",
   "metadata": {},
   "outputs": [
    {
     "name": "stdout",
     "output_type": "stream",
     "text": [
      "0\n",
      "1\n",
      "2\n",
      "3\n",
      "4\n",
      "5\n",
      "6\n",
      "7\n",
      "8\n",
      "9\n"
     ]
    }
   ],
   "source": [
    "for num in range(10):\n",
    "    print(num)"
   ]
  },
  {
   "cell_type": "code",
   "execution_count": 38,
   "id": "a6aeaaaa",
   "metadata": {},
   "outputs": [
    {
     "name": "stdout",
     "output_type": "stream",
     "text": [
      "3\n",
      "4\n",
      "5\n",
      "6\n",
      "7\n",
      "8\n",
      "9\n"
     ]
    }
   ],
   "source": [
    "for num in range(3,10):\n",
    "    print(num)"
   ]
  },
  {
   "cell_type": "code",
   "execution_count": 40,
   "id": "14b2101b",
   "metadata": {},
   "outputs": [
    {
     "name": "stdout",
     "output_type": "stream",
     "text": [
      "2\n",
      "4\n",
      "6\n",
      "8\n",
      "10\n"
     ]
    }
   ],
   "source": [
    "for num in range(2,11,2):\n",
    "    print(num)"
   ]
  },
  {
   "cell_type": "code",
   "execution_count": 41,
   "id": "f5ce2c91",
   "metadata": {},
   "outputs": [
    {
     "data": {
      "text/plain": [
       "[0, 3, 6, 9, 12]"
      ]
     },
     "execution_count": 41,
     "metadata": {},
     "output_type": "execute_result"
    }
   ],
   "source": [
    "list(range(0,15,3))"
   ]
  },
  {
   "cell_type": "code",
   "execution_count": 42,
   "id": "cd8b982e",
   "metadata": {},
   "outputs": [
    {
     "name": "stdout",
     "output_type": "stream",
     "text": [
      "At index 0 the letter is a\n",
      "At index 0 the letter is b\n",
      "At index 0 the letter is c\n",
      "At index 0 the letter is d\n",
      "At index 0 the letter is e\n"
     ]
    }
   ],
   "source": [
    "index_count = 0\n",
    "\n",
    "for letter in 'abcde':\n",
    "    print('At index {} the letter is {}'.format(index_count, letter))"
   ]
  },
  {
   "cell_type": "code",
   "execution_count": 44,
   "id": "ecd5abb2",
   "metadata": {},
   "outputs": [
    {
     "name": "stdout",
     "output_type": "stream",
     "text": [
      "a\n",
      "b\n",
      "c\n",
      "d\n",
      "e\n"
     ]
    }
   ],
   "source": [
    "index_count = 0\n",
    "word = 'abcde'\n",
    "for letter in word:\n",
    "    print(word[index_count])\n",
    "    index_count += 1"
   ]
  },
  {
   "cell_type": "code",
   "execution_count": 45,
   "id": "8441e0ee",
   "metadata": {},
   "outputs": [
    {
     "name": "stdout",
     "output_type": "stream",
     "text": [
      "0\n",
      "a\n",
      "\n",
      "\n",
      "1\n",
      "b\n",
      "\n",
      "\n",
      "2\n",
      "c\n",
      "\n",
      "\n",
      "3\n",
      "d\n",
      "\n",
      "\n",
      "4\n",
      "e\n",
      "\n",
      "\n"
     ]
    }
   ],
   "source": [
    "for index, letter in enumerate('abcde'):\n",
    "    print(index)\n",
    "    print(letter)\n",
    "    print('\\n')"
   ]
  },
  {
   "cell_type": "code",
   "execution_count": 46,
   "id": "70ae35ce",
   "metadata": {},
   "outputs": [],
   "source": [
    "mylist1 = [1,2,3]\n",
    "mylist2 = ['a','b','c']"
   ]
  },
  {
   "cell_type": "code",
   "execution_count": 47,
   "id": "20df9cde",
   "metadata": {},
   "outputs": [
    {
     "name": "stdout",
     "output_type": "stream",
     "text": [
      "(1, 'a')\n",
      "(2, 'b')\n",
      "(3, 'c')\n"
     ]
    }
   ],
   "source": [
    "for item in zip(mylist1, mylist2):\n",
    "    print(item)"
   ]
  },
  {
   "cell_type": "code",
   "execution_count": 48,
   "id": "742202b4",
   "metadata": {},
   "outputs": [],
   "source": [
    "mylist1 = [1,2,3]\n",
    "mylist2 = ['a','b','c']\n",
    "mylist3 = [100,200,300]"
   ]
  },
  {
   "cell_type": "code",
   "execution_count": 50,
   "id": "b84b8710",
   "metadata": {},
   "outputs": [
    {
     "name": "stdout",
     "output_type": "stream",
     "text": [
      "(1, 'a', 100)\n",
      "(2, 'b', 200)\n",
      "(3, 'c', 300)\n"
     ]
    }
   ],
   "source": [
    "for item in zip(mylist1, mylist2, mylist3):\n",
    "    print(item)"
   ]
  },
  {
   "cell_type": "code",
   "execution_count": 51,
   "id": "f7d0c382",
   "metadata": {},
   "outputs": [
    {
     "data": {
      "text/plain": [
       "[(1, 'a', 100), (2, 'b', 200), (3, 'c', 300)]"
      ]
     },
     "execution_count": 51,
     "metadata": {},
     "output_type": "execute_result"
    }
   ],
   "source": [
    "list(zip(mylist1, mylist2, mylist3))"
   ]
  },
  {
   "cell_type": "code",
   "execution_count": 52,
   "id": "c35a49c4",
   "metadata": {},
   "outputs": [
    {
     "data": {
      "text/plain": [
       "False"
      ]
     },
     "execution_count": 52,
     "metadata": {},
     "output_type": "execute_result"
    }
   ],
   "source": [
    "'x' in [1,2,3]"
   ]
  },
  {
   "cell_type": "code",
   "execution_count": 53,
   "id": "59fd8923",
   "metadata": {},
   "outputs": [
    {
     "data": {
      "text/plain": [
       "True"
      ]
     },
     "execution_count": 53,
     "metadata": {},
     "output_type": "execute_result"
    }
   ],
   "source": [
    "'x' in ['x','y','z']"
   ]
  },
  {
   "cell_type": "code",
   "execution_count": 54,
   "id": "9a6975de",
   "metadata": {},
   "outputs": [
    {
     "data": {
      "text/plain": [
       "True"
      ]
     },
     "execution_count": 54,
     "metadata": {},
     "output_type": "execute_result"
    }
   ],
   "source": [
    "'a' in 'a world'"
   ]
  },
  {
   "cell_type": "code",
   "execution_count": 55,
   "id": "1e43aa40",
   "metadata": {},
   "outputs": [
    {
     "data": {
      "text/plain": [
       "True"
      ]
     },
     "execution_count": 55,
     "metadata": {},
     "output_type": "execute_result"
    }
   ],
   "source": [
    "'mykey' in {'mykey':123}"
   ]
  },
  {
   "cell_type": "code",
   "execution_count": 56,
   "id": "8a205911",
   "metadata": {},
   "outputs": [
    {
     "data": {
      "text/plain": [
       "True"
      ]
     },
     "execution_count": 56,
     "metadata": {},
     "output_type": "execute_result"
    }
   ],
   "source": [
    "d = {'mykey':345}\n",
    "\n",
    "345 in d.values()"
   ]
  },
  {
   "cell_type": "code",
   "execution_count": 57,
   "id": "ff323ac8",
   "metadata": {},
   "outputs": [
    {
     "data": {
      "text/plain": [
       "10"
      ]
     },
     "execution_count": 57,
     "metadata": {},
     "output_type": "execute_result"
    }
   ],
   "source": [
    "mylist = [10,20,30,40,100]\n",
    "min(mylist)"
   ]
  },
  {
   "cell_type": "code",
   "execution_count": 58,
   "id": "37c28818",
   "metadata": {},
   "outputs": [
    {
     "data": {
      "text/plain": [
       "100"
      ]
     },
     "execution_count": 58,
     "metadata": {},
     "output_type": "execute_result"
    }
   ],
   "source": [
    "max(mylist)"
   ]
  },
  {
   "cell_type": "code",
   "execution_count": 59,
   "id": "77ac41ea",
   "metadata": {},
   "outputs": [],
   "source": [
    "# to import a library\n",
    "from random import shuffle"
   ]
  },
  {
   "cell_type": "code",
   "execution_count": 60,
   "id": "7a81b919",
   "metadata": {},
   "outputs": [],
   "source": [
    "mylist = [1,2,3,4,5,6,7,8,9,10]"
   ]
  },
  {
   "cell_type": "code",
   "execution_count": 62,
   "id": "d3863f17",
   "metadata": {},
   "outputs": [
    {
     "data": {
      "text/plain": [
       "[2, 3, 8, 7, 5, 9, 1, 4, 10, 6]"
      ]
     },
     "execution_count": 62,
     "metadata": {},
     "output_type": "execute_result"
    }
   ],
   "source": [
    "shuffle(mylist)\n",
    "mylist"
   ]
  },
  {
   "cell_type": "code",
   "execution_count": 63,
   "id": "7afb4958",
   "metadata": {},
   "outputs": [
    {
     "data": {
      "text/plain": [
       "71"
      ]
     },
     "execution_count": 63,
     "metadata": {},
     "output_type": "execute_result"
    }
   ],
   "source": [
    "from random import randint\n",
    "randint(0,100)"
   ]
  },
  {
   "cell_type": "code",
   "execution_count": 64,
   "id": "603678d2",
   "metadata": {},
   "outputs": [
    {
     "data": {
      "text/plain": [
       "63"
      ]
     },
     "execution_count": 64,
     "metadata": {},
     "output_type": "execute_result"
    }
   ],
   "source": [
    "randint(0,100)"
   ]
  },
  {
   "cell_type": "code",
   "execution_count": 65,
   "id": "401d4f26",
   "metadata": {},
   "outputs": [
    {
     "data": {
      "text/plain": [
       "3"
      ]
     },
     "execution_count": 65,
     "metadata": {},
     "output_type": "execute_result"
    }
   ],
   "source": [
    "mynum = randint(0,10)\n",
    "mynum"
   ]
  },
  {
   "cell_type": "code",
   "execution_count": 66,
   "id": "e7d22d63",
   "metadata": {},
   "outputs": [
    {
     "name": "stdout",
     "output_type": "stream",
     "text": [
      "Enter a number here: 50\n"
     ]
    },
    {
     "data": {
      "text/plain": [
       "'50'"
      ]
     },
     "execution_count": 66,
     "metadata": {},
     "output_type": "execute_result"
    }
   ],
   "source": [
    "input('Enter a number here: ')"
   ]
  },
  {
   "cell_type": "code",
   "execution_count": 67,
   "id": "7e5fa9b5",
   "metadata": {},
   "outputs": [
    {
     "name": "stdout",
     "output_type": "stream",
     "text": [
      "What is your name? Sherlock\n"
     ]
    }
   ],
   "source": [
    "result = input('What is your name? ')"
   ]
  },
  {
   "cell_type": "code",
   "execution_count": 68,
   "id": "039122d1",
   "metadata": {},
   "outputs": [
    {
     "data": {
      "text/plain": [
       "'Sherlock'"
      ]
     },
     "execution_count": 68,
     "metadata": {},
     "output_type": "execute_result"
    }
   ],
   "source": [
    "result"
   ]
  },
  {
   "cell_type": "code",
   "execution_count": 69,
   "id": "38aaf9cf",
   "metadata": {},
   "outputs": [
    {
     "name": "stdout",
     "output_type": "stream",
     "text": [
      "Favourite number: 42\n"
     ]
    }
   ],
   "source": [
    "result = input('Favourite number: ')"
   ]
  },
  {
   "cell_type": "code",
   "execution_count": 70,
   "id": "be1736f2",
   "metadata": {},
   "outputs": [
    {
     "data": {
      "text/plain": [
       "str"
      ]
     },
     "execution_count": 70,
     "metadata": {},
     "output_type": "execute_result"
    }
   ],
   "source": [
    "type(result)"
   ]
  },
  {
   "cell_type": "code",
   "execution_count": 74,
   "id": "e3b9340c",
   "metadata": {},
   "outputs": [
    {
     "data": {
      "text/plain": [
       "42.0"
      ]
     },
     "execution_count": 74,
     "metadata": {},
     "output_type": "execute_result"
    }
   ],
   "source": [
    "float(result)"
   ]
  },
  {
   "cell_type": "markdown",
   "id": "2c33c4bf",
   "metadata": {},
   "source": [
    "# List Comprehension"
   ]
  },
  {
   "cell_type": "code",
   "execution_count": 11,
   "id": "9ca44063",
   "metadata": {},
   "outputs": [],
   "source": [
    "mystring = 'hello'"
   ]
  },
  {
   "cell_type": "code",
   "execution_count": 12,
   "id": "f0217f89",
   "metadata": {},
   "outputs": [],
   "source": [
    "mylist = []"
   ]
  },
  {
   "cell_type": "code",
   "execution_count": 13,
   "id": "6bdc985d",
   "metadata": {},
   "outputs": [],
   "source": [
    "for l in mystring:\n",
    "    mylist.append(l)"
   ]
  },
  {
   "cell_type": "code",
   "execution_count": 16,
   "id": "90982aaa",
   "metadata": {},
   "outputs": [
    {
     "name": "stdout",
     "output_type": "stream",
     "text": [
      "('h', 'e', 'l', 'l', 'o')\n",
      "['h', 'e', 'l', 'l', 'o']\n"
     ]
    }
   ],
   "source": [
    "mytuplizedlist = tuple(mylist)\n",
    "print(mytuplizedlist)\n",
    "print(mylist)"
   ]
  },
  {
   "cell_type": "code",
   "execution_count": 23,
   "id": "e9a762e6",
   "metadata": {},
   "outputs": [
    {
     "name": "stdout",
     "output_type": "stream",
     "text": [
      "['h', 'e', 'l', 'l', 'o']\n"
     ]
    }
   ],
   "source": [
    "ls = [letter for letter in mystring]\n",
    "print(ls)"
   ]
  },
  {
   "cell_type": "code",
   "execution_count": 22,
   "id": "923f70c8",
   "metadata": {},
   "outputs": [
    {
     "name": "stdout",
     "output_type": "stream",
     "text": [
      "[0, 1, 2, 3, 4, 5, 6, 7, 8, 9, 10]\n"
     ]
    }
   ],
   "source": [
    "l = [num for num in range(11)]\n",
    "print(l)"
   ]
  },
  {
   "cell_type": "code",
   "execution_count": 21,
   "id": "d0df5a39",
   "metadata": {},
   "outputs": [
    {
     "name": "stdout",
     "output_type": "stream",
     "text": [
      "[0, 1, 4, 9, 16, 25, 36, 49, 64, 81, 100]\n"
     ]
    }
   ],
   "source": [
    "list1 = [num**2 for num in range(11)]\n",
    "print(list1)"
   ]
  },
  {
   "cell_type": "markdown",
   "id": "8340d93c",
   "metadata": {},
   "source": [
    "## List Comprehension with an `if` statement"
   ]
  },
  {
   "cell_type": "code",
   "execution_count": 20,
   "id": "b2b18c77",
   "metadata": {},
   "outputs": [
    {
     "name": "stdout",
     "output_type": "stream",
     "text": [
      "[0, 2, 4, 6, 8, 10]\n"
     ]
    }
   ],
   "source": [
    "list2 = [x for x in range(11) if x%2 == 0]\n",
    "print(list2)"
   ]
  },
  {
   "cell_type": "markdown",
   "id": "298f8d05",
   "metadata": {},
   "source": [
    "## C° to F° Using List Comprehension"
   ]
  },
  {
   "cell_type": "code",
   "execution_count": 18,
   "id": "ec6e6e23",
   "metadata": {},
   "outputs": [
    {
     "name": "stdout",
     "output_type": "stream",
     "text": [
      "[32.0, 50.0, 68.0, 94.1]\n"
     ]
    }
   ],
   "source": [
    "celcius = [0,10,20,34.5]\n",
    "fahrenheit = [(1.8 * temp + 32) for temp in celcius]\n",
    "print(fahrenheit)"
   ]
  },
  {
   "cell_type": "markdown",
   "id": "eb375969",
   "metadata": {},
   "source": [
    "## C° to F° Using a For Loop"
   ]
  },
  {
   "cell_type": "code",
   "execution_count": 15,
   "id": "13bca247",
   "metadata": {},
   "outputs": [
    {
     "name": "stdout",
     "output_type": "stream",
     "text": [
      "[32.0, 50.0, 68.0, 94.1]\n"
     ]
    }
   ],
   "source": [
    "fahrenheit = []\n",
    "\n",
    "for temp in celcius:\n",
    "    fahrenheit.append(( (9/5) * temp + 32 ))\n",
    "    \n",
    "print(fahrenheit)"
   ]
  },
  {
   "cell_type": "markdown",
   "id": "5742e6a0",
   "metadata": {},
   "source": [
    "## List Comprehension with an `if else` statment"
   ]
  },
  {
   "cell_type": "code",
   "execution_count": 17,
   "id": "6603854d",
   "metadata": {},
   "outputs": [
    {
     "name": "stdout",
     "output_type": "stream",
     "text": [
      "[0, 'ODD', 2, 'ODD', 4, 'ODD', 6, 'ODD', 8, 'ODD', 10]\n"
     ]
    }
   ],
   "source": [
    "results = [x if x%2 == 0 else 'ODD' for x in range(11)]\n",
    "print(results)"
   ]
  },
  {
   "cell_type": "markdown",
   "id": "6f0c68c2",
   "metadata": {},
   "source": [
    "## Nested Loop"
   ]
  },
  {
   "cell_type": "code",
   "execution_count": 19,
   "id": "beb12a14",
   "metadata": {},
   "outputs": [
    {
     "name": "stdout",
     "output_type": "stream",
     "text": [
      "[200, 400, 600, 400, 800, 1200, 600, 1200, 1800]\n"
     ]
    }
   ],
   "source": [
    "mylist = []\n",
    "\n",
    "for x in [2,4,6]:\n",
    "    for y in [100,200,300]:\n",
    "        mylist.append(x*y)\n",
    "        \n",
    "print(mylist)"
   ]
  },
  {
   "cell_type": "code",
   "execution_count": 18,
   "id": "b595921a",
   "metadata": {},
   "outputs": [
    {
     "name": "stdout",
     "output_type": "stream",
     "text": [
      "[2, 20, 2000, 4, 40, 4000, 6, 60, 6000]\n"
     ]
    }
   ],
   "source": [
    "mylist = [x*y for x in [2,4,6] for y in [1,10,1000]]\n",
    "print(mylist)"
   ]
  },
  {
   "cell_type": "markdown",
   "id": "9aa7529a",
   "metadata": {},
   "source": [
    "## Python Statements Test Overview"
   ]
  },
  {
   "cell_type": "markdown",
   "id": "9a1d9eaf",
   "metadata": {},
   "source": [
    "Use `for`, `split()`, and `if` to create a statement that will print out words that start with 's'.  \n",
    "```python\n",
    "st = 'Print only the words that start with s in this sentence'\n",
    "```"
   ]
  },
  {
   "cell_type": "code",
   "execution_count": 24,
   "id": "eaaff0a3",
   "metadata": {},
   "outputs": [
    {
     "name": "stdout",
     "output_type": "stream",
     "text": [
      "['Print', 'only', 'the', 'words', 'that', 'start', 'with', 's', 'in', 'this', 'sentence']\n"
     ]
    }
   ],
   "source": [
    "st = 'Print only the words that start with s in this sentence'\n",
    "st = st.split()\n",
    "print(st)"
   ]
  },
  {
   "cell_type": "code",
   "execution_count": 27,
   "id": "a42f92c8",
   "metadata": {},
   "outputs": [
    {
     "name": "stdout",
     "output_type": "stream",
     "text": [
      "start\n",
      "s\n",
      "sentence\n"
     ]
    }
   ],
   "source": [
    "for sword in st:\n",
    "    if sword[0] == 's':\n",
    "        print(sword)"
   ]
  },
  {
   "cell_type": "code",
   "execution_count": 28,
   "id": "d1d18a3b",
   "metadata": {},
   "outputs": [
    {
     "name": "stdout",
     "output_type": "stream",
     "text": [
      "start\n",
      "s\n",
      "sentence\n"
     ]
    }
   ],
   "source": [
    "st = 'Print only the words that start with s in this sentence'\n",
    "for word in st.split():\n",
    "    if word[0] == 's':\n",
    "        print(word)"
   ]
  },
  {
   "cell_type": "code",
   "execution_count": 31,
   "id": "9b8408e4",
   "metadata": {},
   "outputs": [
    {
     "name": "stdout",
     "output_type": "stream",
     "text": [
      "['start', 's', 'sentence']\n"
     ]
    }
   ],
   "source": [
    "s_words = [word for word in st.split() if word[0] == 's']\n",
    "print(s_words)"
   ]
  },
  {
   "cell_type": "markdown",
   "id": "63e89402",
   "metadata": {},
   "source": [
    "Use `range()` to print all the even numbers from 0 to 10."
   ]
  },
  {
   "cell_type": "code",
   "execution_count": 34,
   "id": "f82867b8",
   "metadata": {},
   "outputs": [
    {
     "name": "stdout",
     "output_type": "stream",
     "text": [
      "[0, 2, 4, 6, 8, 10]\n"
     ]
    }
   ],
   "source": [
    "even_numbers = []\n",
    "for num in range(11):\n",
    "    if num % 2 == 0:\n",
    "        even_numbers.append(num)\n",
    "        \n",
    "print(even_numbers)"
   ]
  },
  {
   "cell_type": "code",
   "execution_count": 33,
   "id": "49f3829b",
   "metadata": {},
   "outputs": [
    {
     "name": "stdout",
     "output_type": "stream",
     "text": [
      "[0, 2, 4, 6, 8, 10]\n"
     ]
    }
   ],
   "source": [
    "even_numbers = [num for num in range(11) if num % 2 == 0]\n",
    "print(even_numbers)"
   ]
  },
  {
   "cell_type": "markdown",
   "id": "fe103919",
   "metadata": {},
   "source": [
    "Use a List Comprehension to create a list of all numbers between 1 and 50 that are divisible by 3."
   ]
  },
  {
   "cell_type": "code",
   "execution_count": 37,
   "id": "f03da03f",
   "metadata": {},
   "outputs": [
    {
     "name": "stdout",
     "output_type": "stream",
     "text": [
      "[3, 6, 9, 12, 15, 18, 21, 24, 27, 30, 33, 36, 39, 42, 45, 48]\n"
     ]
    }
   ],
   "source": [
    "davinci = [num for num in range(2,49) if num % 3 == 0]\n",
    "print(davinci)"
   ]
  },
  {
   "cell_type": "markdown",
   "id": "b31b9220",
   "metadata": {},
   "source": [
    "Go through the string below and if the length of a word is even print \"even!\"\n",
    "```python\n",
    "st = 'Print every word in this sentence that has an even number of letters'\n",
    "```"
   ]
  },
  {
   "cell_type": "code",
   "execution_count": 39,
   "id": "56b3e1d5",
   "metadata": {},
   "outputs": [
    {
     "name": "stdout",
     "output_type": "stream",
     "text": [
      "['Print', 'every', 'word', 'in', 'this', 'sentence', 'that', 'has', 'an', 'even', 'number', 'of', 'letters']\n"
     ]
    }
   ],
   "source": [
    "st = 'Print every word in this sentence that has an even number of letters'\n",
    "print(st.split())"
   ]
  },
  {
   "cell_type": "code",
   "execution_count": 43,
   "id": "4a1fe114",
   "metadata": {},
   "outputs": [
    {
     "name": "stdout",
     "output_type": "stream",
     "text": [
      "word even!\n",
      "in even!\n",
      "this even!\n",
      "sentence even!\n",
      "that even!\n",
      "an even!\n",
      "even even!\n",
      "number even!\n",
      "of even!\n"
     ]
    }
   ],
   "source": [
    "for word in st.split():\n",
    "    if len(word) % 2 == 0:\n",
    "        print(word, 'even!')"
   ]
  },
  {
   "cell_type": "markdown",
   "id": "df568c1a",
   "metadata": {},
   "source": [
    "Write a program that prints the integers from 1 to 100.  \n",
    "But for multiples of 3 print \"Fizz\" instead of the number,  \n",
    "and for the multiples of 5 print \"Buzz\".  \n",
    "For numbers which are multiples of both 3 and 5 print \"FizzBuzz\"."
   ]
  },
  {
   "cell_type": "code",
   "execution_count": 46,
   "id": "e4b99dd7",
   "metadata": {},
   "outputs": [
    {
     "name": "stdout",
     "output_type": "stream",
     "text": [
      "1\n",
      "2\n",
      "Fizz\n",
      "3\n",
      "4\n",
      "Buzz\n",
      "5\n",
      "Fizz\n",
      "6\n",
      "7\n",
      "8\n",
      "Fizz\n",
      "9\n",
      "Buzz\n",
      "10\n",
      "11\n",
      "Fizz\n",
      "12\n",
      "13\n",
      "14\n",
      "Fizz\n",
      "Buzz\n",
      "FizzBuzz\n",
      "16\n",
      "17\n",
      "Fizz\n",
      "18\n",
      "19\n",
      "Buzz\n",
      "20\n",
      "Fizz\n",
      "21\n",
      "22\n",
      "23\n",
      "Fizz\n",
      "24\n",
      "Buzz\n",
      "25\n",
      "26\n",
      "Fizz\n",
      "27\n",
      "28\n",
      "29\n",
      "Fizz\n",
      "Buzz\n",
      "FizzBuzz\n",
      "31\n",
      "32\n",
      "Fizz\n",
      "33\n",
      "34\n",
      "Buzz\n",
      "35\n",
      "Fizz\n",
      "36\n",
      "37\n",
      "38\n",
      "Fizz\n",
      "39\n",
      "Buzz\n",
      "40\n",
      "41\n",
      "Fizz\n",
      "42\n",
      "43\n",
      "44\n",
      "Fizz\n",
      "Buzz\n",
      "FizzBuzz\n",
      "46\n",
      "47\n",
      "Fizz\n",
      "48\n",
      "49\n",
      "Buzz\n",
      "50\n",
      "Fizz\n",
      "51\n",
      "52\n",
      "53\n",
      "Fizz\n",
      "54\n",
      "Buzz\n",
      "55\n",
      "56\n",
      "Fizz\n",
      "57\n",
      "58\n",
      "59\n",
      "Fizz\n",
      "Buzz\n",
      "FizzBuzz\n",
      "61\n",
      "62\n",
      "Fizz\n",
      "63\n",
      "64\n",
      "Buzz\n",
      "65\n",
      "Fizz\n",
      "66\n",
      "67\n",
      "68\n",
      "Fizz\n",
      "69\n",
      "Buzz\n",
      "70\n",
      "71\n",
      "Fizz\n",
      "72\n",
      "73\n",
      "74\n",
      "Fizz\n",
      "Buzz\n",
      "FizzBuzz\n",
      "76\n",
      "77\n",
      "Fizz\n",
      "78\n",
      "79\n",
      "Buzz\n",
      "80\n",
      "Fizz\n",
      "81\n",
      "82\n",
      "83\n",
      "Fizz\n",
      "84\n",
      "Buzz\n",
      "85\n",
      "86\n",
      "Fizz\n",
      "87\n",
      "88\n",
      "89\n",
      "Fizz\n",
      "Buzz\n",
      "FizzBuzz\n",
      "91\n",
      "92\n",
      "Fizz\n",
      "93\n",
      "94\n",
      "Buzz\n",
      "95\n",
      "Fizz\n",
      "96\n",
      "97\n",
      "98\n",
      "Fizz\n",
      "99\n"
     ]
    }
   ],
   "source": [
    "for number in range(1,100):\n",
    "    if number % 3 == 0:\n",
    "        print(\"Fizz\")\n",
    "    if number % 5 == 0:\n",
    "        print(\"Buzz\")\n",
    "    if number % 3 == 0 and number % 5 == 0:\n",
    "        print(\"FizzBuzz\")\n",
    "    else:\n",
    "        print(number)"
   ]
  },
  {
   "cell_type": "markdown",
   "id": "d6d30ab1",
   "metadata": {},
   "source": [
    "Use List Comprehension to create a list of the first letters of every word in the string below:\n",
    "```python\n",
    "st = 'Create a list of the first letters of every word in this string'\n",
    "```"
   ]
  },
  {
   "cell_type": "code",
   "execution_count": 5,
   "id": "b87e11af",
   "metadata": {},
   "outputs": [
    {
     "name": "stdout",
     "output_type": "stream",
     "text": [
      "['C', 'a', 'l', 'o', 't', 'f', 'l', 'o', 'e', 'w', 'i', 't', 's']\n"
     ]
    }
   ],
   "source": [
    "st = 'Create a list of the first letters of every word in this string'\n",
    "first_letters = []\n",
    "\n",
    "for word in st.split():\n",
    "    first_letters.append(word[0])\n",
    "    \n",
    "print(first_letters)"
   ]
  },
  {
   "cell_type": "code",
   "execution_count": 7,
   "id": "925e9e24",
   "metadata": {},
   "outputs": [
    {
     "name": "stdout",
     "output_type": "stream",
     "text": [
      "['C', 'a', 'l', 'o', 't', 'f', 'l', 'o', 'e', 'w', 'i', 't', 's']\n"
     ]
    }
   ],
   "source": [
    "first_letters2 = [word[0] for word in st.split()]\n",
    "print(first_letters2)"
   ]
  },
  {
   "cell_type": "code",
   "execution_count": null,
   "id": "cd3f74fe",
   "metadata": {},
   "outputs": [],
   "source": []
  }
 ],
 "metadata": {
  "kernelspec": {
   "display_name": "Python 3",
   "language": "python",
   "name": "python3"
  },
  "language_info": {
   "codemirror_mode": {
    "name": "ipython",
    "version": 3
   },
   "file_extension": ".py",
   "mimetype": "text/x-python",
   "name": "python",
   "nbconvert_exporter": "python",
   "pygments_lexer": "ipython3",
   "version": "3.8.8"
  }
 },
 "nbformat": 4,
 "nbformat_minor": 5
}
