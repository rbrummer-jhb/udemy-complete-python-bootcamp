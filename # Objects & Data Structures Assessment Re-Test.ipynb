{
 "cells": [
  {
   "cell_type": "markdown",
   "id": "54f047d6",
   "metadata": {},
   "source": [
    "# Objects & Data Structures Assessment Test"
   ]
  },
  {
   "cell_type": "markdown",
   "id": "b23d86da",
   "metadata": {},
   "source": [
    "| Object Types | Example |\n",
    "|:-|:-|\n",
    "| Number | 1,2,3,4,5 |\n",
    "| String | 'this is a string' |\n",
    "| List | l = [1,2,3,4,5] |\n",
    "| Tuple | t = (1,2,3) |\n",
    "| Dict |  |"
   ]
  },
  {
   "cell_type": "code",
   "execution_count": 9,
   "id": "36223584",
   "metadata": {},
   "outputs": [
    {
     "data": {
      "text/plain": [
       "100.25"
      ]
     },
     "execution_count": 9,
     "metadata": {},
     "output_type": "execute_result"
    }
   ],
   "source": [
    "(2 * 10 / 5) ** 4 + 44.25 - 200"
   ]
  },
  {
   "cell_type": "code",
   "execution_count": 10,
   "id": "3a3253f5",
   "metadata": {},
   "outputs": [
    {
     "data": {
      "text/plain": [
       "44"
      ]
     },
     "execution_count": 10,
     "metadata": {},
     "output_type": "execute_result"
    }
   ],
   "source": [
    "4 * (6 + 5)"
   ]
  },
  {
   "cell_type": "code",
   "execution_count": 11,
   "id": "2400d01a",
   "metadata": {},
   "outputs": [
    {
     "data": {
      "text/plain": [
       "29"
      ]
     },
     "execution_count": 11,
     "metadata": {},
     "output_type": "execute_result"
    }
   ],
   "source": [
    "4 * 6 + 5"
   ]
  },
  {
   "cell_type": "code",
   "execution_count": 12,
   "id": "7973bb7d",
   "metadata": {},
   "outputs": [
    {
     "data": {
      "text/plain": [
       "34"
      ]
     },
     "execution_count": 12,
     "metadata": {},
     "output_type": "execute_result"
    }
   ],
   "source": [
    "4 + 6 * 5"
   ]
  },
  {
   "cell_type": "code",
   "execution_count": 13,
   "id": "a8a7ff70",
   "metadata": {},
   "outputs": [
    {
     "data": {
      "text/plain": [
       "float"
      ]
     },
     "execution_count": 13,
     "metadata": {},
     "output_type": "execute_result"
    }
   ],
   "source": [
    "type(3 + 1.5 + 4)"
   ]
  },
  {
   "cell_type": "code",
   "execution_count": 14,
   "id": "7d08fd5c",
   "metadata": {},
   "outputs": [
    {
     "data": {
      "text/plain": [
       "4.0"
      ]
     },
     "execution_count": 14,
     "metadata": {},
     "output_type": "execute_result"
    }
   ],
   "source": [
    "16 ** 0.5"
   ]
  },
  {
   "cell_type": "code",
   "execution_count": 16,
   "id": "d277a1d3",
   "metadata": {},
   "outputs": [
    {
     "data": {
      "text/plain": [
       "16"
      ]
     },
     "execution_count": 16,
     "metadata": {},
     "output_type": "execute_result"
    }
   ],
   "source": [
    "4 ** 2"
   ]
  },
  {
   "cell_type": "code",
   "execution_count": 17,
   "id": "799c34fc",
   "metadata": {},
   "outputs": [
    {
     "data": {
      "text/plain": [
       "'e'"
      ]
     },
     "execution_count": 17,
     "metadata": {},
     "output_type": "execute_result"
    }
   ],
   "source": [
    "h = 'hello'\n",
    "h[1]"
   ]
  },
  {
   "cell_type": "code",
   "execution_count": 18,
   "id": "3a9c4c10",
   "metadata": {},
   "outputs": [
    {
     "data": {
      "text/plain": [
       "'e'"
      ]
     },
     "execution_count": 18,
     "metadata": {},
     "output_type": "execute_result"
    }
   ],
   "source": [
    "'hello'[1]"
   ]
  },
  {
   "cell_type": "code",
   "execution_count": 19,
   "id": "55bc0822",
   "metadata": {},
   "outputs": [
    {
     "data": {
      "text/plain": [
       "'ello'"
      ]
     },
     "execution_count": 19,
     "metadata": {},
     "output_type": "execute_result"
    }
   ],
   "source": [
    "'hello'[1:]"
   ]
  },
  {
   "cell_type": "code",
   "execution_count": 20,
   "id": "9456952a",
   "metadata": {},
   "outputs": [
    {
     "data": {
      "text/plain": [
       "'h'"
      ]
     },
     "execution_count": 20,
     "metadata": {},
     "output_type": "execute_result"
    }
   ],
   "source": [
    "'hello'[:1]"
   ]
  },
  {
   "cell_type": "code",
   "execution_count": 21,
   "id": "c0c489c3",
   "metadata": {},
   "outputs": [
    {
     "data": {
      "text/plain": [
       "'e'"
      ]
     },
     "execution_count": 21,
     "metadata": {},
     "output_type": "execute_result"
    }
   ],
   "source": [
    "'hello'[1:2]"
   ]
  },
  {
   "cell_type": "code",
   "execution_count": 24,
   "id": "7b251d69",
   "metadata": {},
   "outputs": [
    {
     "data": {
      "text/plain": [
       "'e'"
      ]
     },
     "execution_count": 24,
     "metadata": {},
     "output_type": "execute_result"
    }
   ],
   "source": [
    "'hello'[-4]"
   ]
  },
  {
   "cell_type": "code",
   "execution_count": 25,
   "id": "059c213d",
   "metadata": {},
   "outputs": [
    {
     "data": {
      "text/plain": [
       "'f'"
      ]
     },
     "execution_count": 25,
     "metadata": {},
     "output_type": "execute_result"
    }
   ],
   "source": [
    "'bumfuzzle'[-6]"
   ]
  },
  {
   "cell_type": "code",
   "execution_count": 51,
   "id": "b296e3aa",
   "metadata": {},
   "outputs": [
    {
     "data": {
      "text/plain": [
       "'zufmub'"
      ]
     },
     "execution_count": 51,
     "metadata": {},
     "output_type": "execute_result"
    }
   ],
   "source": [
    "'bumfuzzle'[5::-1]"
   ]
  },
  {
   "cell_type": "code",
   "execution_count": 52,
   "id": "024b842f",
   "metadata": {},
   "outputs": [
    {
     "data": {
      "text/plain": [
       "'o'"
      ]
     },
     "execution_count": 52,
     "metadata": {},
     "output_type": "execute_result"
    }
   ],
   "source": [
    "'hello'[4]"
   ]
  },
  {
   "cell_type": "code",
   "execution_count": 53,
   "id": "8e743fc0",
   "metadata": {},
   "outputs": [
    {
     "data": {
      "text/plain": [
       "'o'"
      ]
     },
     "execution_count": 53,
     "metadata": {},
     "output_type": "execute_result"
    }
   ],
   "source": [
    "'hello'[-1]"
   ]
  },
  {
   "cell_type": "code",
   "execution_count": 1,
   "id": "33f8e0ec",
   "metadata": {},
   "outputs": [
    {
     "data": {
      "text/plain": [
       "[0, 0, 0]"
      ]
     },
     "execution_count": 1,
     "metadata": {},
     "output_type": "execute_result"
    }
   ],
   "source": [
    "l = [0, 0, 0]\n",
    "l"
   ]
  },
  {
   "cell_type": "code",
   "execution_count": 7,
   "id": "76d2eeb6",
   "metadata": {},
   "outputs": [
    {
     "name": "stdout",
     "output_type": "stream",
     "text": [
      "[0, 0, 0]\n"
     ]
    }
   ],
   "source": [
    "ls = []\n",
    "ls.append(0)\n",
    "ls.append(0)\n",
    "ls.append(0)\n",
    "print(ls)"
   ]
  },
  {
   "cell_type": "code",
   "execution_count": 10,
   "id": "42bce64b",
   "metadata": {},
   "outputs": [],
   "source": [
    "# Reassign 'hello' in this nested list to\n",
    "# say 'goodbye' instead:\n",
    "# list = [1, 2, [3, 4, 'hello']]"
   ]
  },
  {
   "cell_type": "code",
   "execution_count": 14,
   "id": "e8cc337b",
   "metadata": {},
   "outputs": [
    {
     "name": "stdout",
     "output_type": "stream",
     "text": [
      "[1, 2, [3, 4, 'goodbye']]\n"
     ]
    }
   ],
   "source": [
    "list = [1, 2, [3, 4, 'hello']]\n",
    "list[2][2] = 'goodbye'\n",
    "print(list)"
   ]
  },
  {
   "cell_type": "code",
   "execution_count": 15,
   "id": "af0c6776",
   "metadata": {},
   "outputs": [],
   "source": [
    "# Sort the list below:\n",
    "# list = [5, 3, 4, 6, 1]"
   ]
  },
  {
   "cell_type": "code",
   "execution_count": 16,
   "id": "bf0d2042",
   "metadata": {},
   "outputs": [
    {
     "name": "stdout",
     "output_type": "stream",
     "text": [
      "[1, 3, 4, 5, 6]\n"
     ]
    }
   ],
   "source": [
    "list = [5, 3, 4, 6, 1]\n",
    "list.sort()\n",
    "print(list)"
   ]
  },
  {
   "cell_type": "code",
   "execution_count": 17,
   "id": "c43e9dd2",
   "metadata": {},
   "outputs": [],
   "source": [
    "# Using keys and indexing,\n",
    "# grab the 'hello' from\n",
    "# the following dictionaries:\n",
    "# d = {'simple_key': 'hello'}\n",
    "# d = {'k1':{'k2':'hello'}}"
   ]
  },
  {
   "cell_type": "code",
   "execution_count": 18,
   "id": "f2e0a14b",
   "metadata": {},
   "outputs": [
    {
     "data": {
      "text/plain": [
       "'hello'"
      ]
     },
     "execution_count": 18,
     "metadata": {},
     "output_type": "execute_result"
    }
   ],
   "source": [
    "d = {'simple_key': 'hello'}\n",
    "d['simple_key']"
   ]
  },
  {
   "cell_type": "code",
   "execution_count": 19,
   "id": "5b91c9e6",
   "metadata": {},
   "outputs": [
    {
     "data": {
      "text/plain": [
       "'hello'"
      ]
     },
     "execution_count": 19,
     "metadata": {},
     "output_type": "execute_result"
    }
   ],
   "source": [
    "d = {'k1':{'k2':'hello'}}\n",
    "d['k1']['k2']"
   ]
  },
  {
   "cell_type": "code",
   "execution_count": 26,
   "id": "759d283c",
   "metadata": {},
   "outputs": [
    {
     "data": {
      "text/plain": [
       "'windows'"
      ]
     },
     "execution_count": 26,
     "metadata": {},
     "output_type": "execute_result"
    }
   ],
   "source": [
    "d = {'t':[3, 4, {'r': ['its', 'a', 'fine', 'day', {'people':['open', ['windows']]}]}]}\n",
    "d['t'][2]['r'][4]['people'][1][0]"
   ]
  },
  {
   "cell_type": "code",
   "execution_count": 27,
   "id": "194b6b36",
   "metadata": {},
   "outputs": [
    {
     "data": {
      "text/plain": [
       "('string', 'string', 'string')"
      ]
     },
     "execution_count": 27,
     "metadata": {},
     "output_type": "execute_result"
    }
   ],
   "source": [
    "t = ('string', 'string', 'string')\n",
    "t"
   ]
  },
  {
   "cell_type": "code",
   "execution_count": 28,
   "id": "736ad9e0",
   "metadata": {},
   "outputs": [
    {
     "data": {
      "text/plain": [
       "(1, 2, 3, 3)"
      ]
     },
     "execution_count": 28,
     "metadata": {},
     "output_type": "execute_result"
    }
   ],
   "source": [
    "t = (1,2,3,3)\n",
    "t"
   ]
  },
  {
   "cell_type": "code",
   "execution_count": 34,
   "id": "310c031b",
   "metadata": {},
   "outputs": [
    {
     "data": {
      "text/plain": [
       "{1, 2, 3}"
      ]
     },
     "execution_count": 34,
     "metadata": {},
     "output_type": "execute_result"
    }
   ],
   "source": [
    "s = {1,2,3,3}\n",
    "s"
   ]
  },
  {
   "cell_type": "code",
   "execution_count": 35,
   "id": "00c7187e",
   "metadata": {},
   "outputs": [],
   "source": [
    "# Sets & Dicts = {} curly brackets\n",
    "# Tuples = () round brackets\n",
    "# Lists = [] square brackets"
   ]
  },
  {
   "cell_type": "code",
   "execution_count": 38,
   "id": "3798262a",
   "metadata": {},
   "outputs": [
    {
     "name": "stdout",
     "output_type": "stream",
     "text": [
      "{1, 2, 33, 4, 3, 11, 22}\n"
     ]
    }
   ],
   "source": [
    "# Use a set to find the unique values below:\n",
    "list = [1,2,2,33,4,4,11,22,3,3,2]\n",
    "s = set(list)\n",
    "print(s)"
   ]
  },
  {
   "cell_type": "code",
   "execution_count": 39,
   "id": "226bba23",
   "metadata": {
    "scrolled": true
   },
   "outputs": [
    {
     "name": "stdout",
     "output_type": "stream",
     "text": [
      "[1, 2, 2, 33, 4, 4, 11, 22, 3, 3, 2]\n"
     ]
    }
   ],
   "source": [
    "print(list)"
   ]
  },
  {
   "cell_type": "code",
   "execution_count": 40,
   "id": "d1920f10",
   "metadata": {},
   "outputs": [
    {
     "data": {
      "text/plain": [
       "False"
      ]
     },
     "execution_count": 40,
     "metadata": {},
     "output_type": "execute_result"
    }
   ],
   "source": [
    "a = 3\n",
    "b = 4\n",
    "(a == b)"
   ]
  },
  {
   "cell_type": "code",
   "execution_count": 41,
   "id": "7fc8b3b3",
   "metadata": {},
   "outputs": [
    {
     "data": {
      "text/plain": [
       "True"
      ]
     },
     "execution_count": 41,
     "metadata": {},
     "output_type": "execute_result"
    }
   ],
   "source": [
    "(a != b)"
   ]
  },
  {
   "cell_type": "code",
   "execution_count": 42,
   "id": "1fbfd82a",
   "metadata": {},
   "outputs": [
    {
     "data": {
      "text/plain": [
       "False"
      ]
     },
     "execution_count": 42,
     "metadata": {},
     "output_type": "execute_result"
    }
   ],
   "source": [
    "(a > b)"
   ]
  },
  {
   "cell_type": "code",
   "execution_count": 43,
   "id": "1b62fe9c",
   "metadata": {},
   "outputs": [
    {
     "data": {
      "text/plain": [
       "True"
      ]
     },
     "execution_count": 43,
     "metadata": {},
     "output_type": "execute_result"
    }
   ],
   "source": [
    "(a < b)"
   ]
  },
  {
   "cell_type": "code",
   "execution_count": 44,
   "id": "c0f71428",
   "metadata": {},
   "outputs": [
    {
     "data": {
      "text/plain": [
       "False"
      ]
     },
     "execution_count": 44,
     "metadata": {},
     "output_type": "execute_result"
    }
   ],
   "source": [
    "(a >= b)"
   ]
  },
  {
   "cell_type": "code",
   "execution_count": null,
   "id": "02ca4005",
   "metadata": {},
   "outputs": [],
   "source": [
    "# What is the Boolean output of the cell block below:\n",
    "l1 = [1, 2, [3, 4]]\n",
    "l2 = [1, 2, {'k1':4}]\n",
    "# True or False\n",
    "l1[2][0]"
   ]
  }
 ],
 "metadata": {
  "kernelspec": {
   "display_name": "Python 3",
   "language": "python",
   "name": "python3"
  },
  "language_info": {
   "codemirror_mode": {
    "name": "ipython",
    "version": 3
   },
   "file_extension": ".py",
   "mimetype": "text/x-python",
   "name": "python",
   "nbconvert_exporter": "python",
   "pygments_lexer": "ipython3",
   "version": "3.8.8"
  }
 },
 "nbformat": 4,
 "nbformat_minor": 5
}
