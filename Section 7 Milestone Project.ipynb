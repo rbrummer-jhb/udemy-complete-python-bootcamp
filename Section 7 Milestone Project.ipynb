{
 "cells": [
  {
   "cell_type": "markdown",
   "id": "f9c86d68",
   "metadata": {},
   "source": [
    "## Displaying Information"
   ]
  },
  {
   "cell_type": "code",
   "execution_count": 1,
   "id": "619e4199",
   "metadata": {},
   "outputs": [
    {
     "name": "stdout",
     "output_type": "stream",
     "text": [
      "[1, 2, 3]\n"
     ]
    }
   ],
   "source": [
    "print([1,2,3])"
   ]
  },
  {
   "cell_type": "code",
   "execution_count": 2,
   "id": "8cdedc63",
   "metadata": {},
   "outputs": [
    {
     "name": "stdout",
     "output_type": "stream",
     "text": [
      "[1, 2, 3]\n",
      "[4, 5, 6]\n",
      "[7, 8, 9]\n"
     ]
    }
   ],
   "source": [
    "print([1,2,3])\n",
    "print([4,5,6])\n",
    "print([7,8,9])"
   ]
  },
  {
   "cell_type": "code",
   "execution_count": 3,
   "id": "dae02c12",
   "metadata": {},
   "outputs": [],
   "source": [
    "def display(row1, row2, row3):\n",
    "    print(row1)\n",
    "    print(row2)\n",
    "    print(row3)"
   ]
  },
  {
   "cell_type": "code",
   "execution_count": 4,
   "id": "1568e87d",
   "metadata": {},
   "outputs": [
    {
     "name": "stdout",
     "output_type": "stream",
     "text": [
      "[1, 2, 3]\n",
      "[1, 2, 3]\n",
      "[1, 2, 3]\n"
     ]
    }
   ],
   "source": [
    "example_row = [1,2,3]\n",
    "\n",
    "display(example_row, example_row, example_row)"
   ]
  },
  {
   "cell_type": "code",
   "execution_count": 5,
   "id": "98e030ca",
   "metadata": {},
   "outputs": [
    {
     "name": "stdout",
     "output_type": "stream",
     "text": [
      "[' ', ' ', ' ']\n",
      "[' ', ' ', ' ']\n",
      "[' ', ' ', ' ']\n"
     ]
    }
   ],
   "source": [
    "row1 = [' ',' ',' ']\n",
    "row2 = [' ',' ',' ']\n",
    "row3 = [' ',' ',' ']\n",
    "\n",
    "display(row1, row2, row3)"
   ]
  },
  {
   "cell_type": "code",
   "execution_count": 6,
   "id": "d410e140",
   "metadata": {},
   "outputs": [],
   "source": [
    "row2[1] = 'X'"
   ]
  },
  {
   "cell_type": "code",
   "execution_count": 7,
   "id": "b7ccc2d1",
   "metadata": {},
   "outputs": [
    {
     "name": "stdout",
     "output_type": "stream",
     "text": [
      "[' ', ' ', ' ']\n",
      "[' ', 'X', ' ']\n",
      "[' ', ' ', ' ']\n"
     ]
    }
   ],
   "source": [
    "display(row1, row2, row3)"
   ]
  },
  {
   "cell_type": "markdown",
   "id": "ce783bee",
   "metadata": {},
   "source": [
    "## Accepting User Input"
   ]
  },
  {
   "cell_type": "code",
   "execution_count": 8,
   "id": "130ff3a3",
   "metadata": {},
   "outputs": [
    {
     "name": "stdout",
     "output_type": "stream",
     "text": [
      "Please enter a value: 2\n"
     ]
    },
    {
     "data": {
      "text/plain": [
       "'2'"
      ]
     },
     "execution_count": 8,
     "metadata": {},
     "output_type": "execute_result"
    }
   ],
   "source": [
    "input('Please enter a value: ')"
   ]
  },
  {
   "cell_type": "code",
   "execution_count": 9,
   "id": "8ec0850e",
   "metadata": {},
   "outputs": [
    {
     "name": "stdout",
     "output_type": "stream",
     "text": [
      "Please enter a value: 2\n"
     ]
    }
   ],
   "source": [
    "result = input('Please enter a value: ')"
   ]
  },
  {
   "cell_type": "code",
   "execution_count": 10,
   "id": "2cab7e1f",
   "metadata": {},
   "outputs": [
    {
     "name": "stdout",
     "output_type": "stream",
     "text": [
      "2\n"
     ]
    }
   ],
   "source": [
    "print(result)"
   ]
  },
  {
   "cell_type": "code",
   "execution_count": 11,
   "id": "a2b58a09",
   "metadata": {},
   "outputs": [
    {
     "data": {
      "text/plain": [
       "str"
      ]
     },
     "execution_count": 11,
     "metadata": {},
     "output_type": "execute_result"
    }
   ],
   "source": [
    "type(result)"
   ]
  },
  {
   "cell_type": "code",
   "execution_count": 12,
   "id": "09d18e61",
   "metadata": {},
   "outputs": [
    {
     "name": "stdout",
     "output_type": "stream",
     "text": [
      "Enter value: 2\n"
     ]
    }
   ],
   "source": [
    "result = input('Enter value: ')"
   ]
  },
  {
   "cell_type": "code",
   "execution_count": 13,
   "id": "db90999b",
   "metadata": {},
   "outputs": [],
   "source": [
    "result_int = int(result)"
   ]
  },
  {
   "cell_type": "code",
   "execution_count": 14,
   "id": "b6b911fa",
   "metadata": {},
   "outputs": [
    {
     "data": {
      "text/plain": [
       "str"
      ]
     },
     "execution_count": 14,
     "metadata": {},
     "output_type": "execute_result"
    }
   ],
   "source": [
    "type(result)"
   ]
  },
  {
   "cell_type": "code",
   "execution_count": 15,
   "id": "ae0f5b3b",
   "metadata": {},
   "outputs": [
    {
     "data": {
      "text/plain": [
       "int"
      ]
     },
     "execution_count": 15,
     "metadata": {},
     "output_type": "execute_result"
    }
   ],
   "source": [
    "type(result_int)"
   ]
  },
  {
   "cell_type": "code",
   "execution_count": 16,
   "id": "fa93add6",
   "metadata": {},
   "outputs": [
    {
     "data": {
      "text/plain": [
       "float"
      ]
     },
     "execution_count": 16,
     "metadata": {},
     "output_type": "execute_result"
    }
   ],
   "source": [
    "type(2.3)"
   ]
  },
  {
   "cell_type": "code",
   "execution_count": 17,
   "id": "38e61411",
   "metadata": {},
   "outputs": [
    {
     "data": {
      "text/plain": [
       "3.14"
      ]
     },
     "execution_count": 17,
     "metadata": {},
     "output_type": "execute_result"
    }
   ],
   "source": [
    "float('3.14')"
   ]
  },
  {
   "cell_type": "code",
   "execution_count": 20,
   "id": "3337012d",
   "metadata": {},
   "outputs": [
    {
     "name": "stdout",
     "output_type": "stream",
     "text": [
      "Choose an index position: 1\n"
     ]
    }
   ],
   "source": [
    "position_index = int(input('Choose an index position: '))"
   ]
  },
  {
   "cell_type": "code",
   "execution_count": 22,
   "id": "718ff1fd",
   "metadata": {},
   "outputs": [
    {
     "data": {
      "text/plain": [
       "[' ', ' ', ' ']"
      ]
     },
     "execution_count": 22,
     "metadata": {},
     "output_type": "execute_result"
    }
   ],
   "source": [
    "row1"
   ]
  },
  {
   "cell_type": "code",
   "execution_count": 23,
   "id": "9b2098bc",
   "metadata": {},
   "outputs": [
    {
     "data": {
      "text/plain": [
       "int"
      ]
     },
     "execution_count": 23,
     "metadata": {},
     "output_type": "execute_result"
    }
   ],
   "source": [
    "type(position_index)"
   ]
  },
  {
   "cell_type": "code",
   "execution_count": 24,
   "id": "2f12d927",
   "metadata": {
    "scrolled": false
   },
   "outputs": [
    {
     "data": {
      "text/plain": [
       "'X'"
      ]
     },
     "execution_count": 24,
     "metadata": {},
     "output_type": "execute_result"
    }
   ],
   "source": [
    "row2[position_index]"
   ]
  },
  {
   "cell_type": "markdown",
   "id": "79be2a59",
   "metadata": {},
   "source": [
    "## Validating User Input"
   ]
  },
  {
   "cell_type": "code",
   "execution_count": 33,
   "id": "4a335315",
   "metadata": {},
   "outputs": [],
   "source": [
    "def user_choice():\n",
    "    choice = 'WRONG'\n",
    "    \n",
    "    while choice.isdigit() == False:\n",
    "        choice = input('Please enter a number (0-10): ')\n",
    "        \n",
    "        if choice.isdigit() == False:\n",
    "            print('Sorry that is not a digit!')\n",
    "    \n",
    "    return int(choice)"
   ]
  },
  {
   "cell_type": "code",
   "execution_count": 34,
   "id": "ff2a3db6",
   "metadata": {},
   "outputs": [
    {
     "name": "stdout",
     "output_type": "stream",
     "text": [
      "Please enter a number (0-10): two\n",
      "Sorry that is not a digit!\n",
      "Please enter a number (0-10): asdf\n",
      "Sorry that is not a digit!\n",
      "Please enter a number (0-10): qwerty\n",
      "Sorry that is not a digit!\n",
      "Please enter a number (0-10): 2\n"
     ]
    },
    {
     "data": {
      "text/plain": [
       "2"
      ]
     },
     "execution_count": 34,
     "metadata": {},
     "output_type": "execute_result"
    }
   ],
   "source": [
    "user_choice()"
   ]
  },
  {
   "cell_type": "code",
   "execution_count": 35,
   "id": "9bb73cda",
   "metadata": {},
   "outputs": [],
   "source": [
    "result = 'WRONG VALUE'"
   ]
  },
  {
   "cell_type": "code",
   "execution_count": 36,
   "id": "9f8c5f05",
   "metadata": {},
   "outputs": [],
   "source": [
    "acceptable_values = [0,1,2]"
   ]
  },
  {
   "cell_type": "code",
   "execution_count": 37,
   "id": "c23c9810",
   "metadata": {},
   "outputs": [
    {
     "data": {
      "text/plain": [
       "False"
      ]
     },
     "execution_count": 37,
     "metadata": {},
     "output_type": "execute_result"
    }
   ],
   "source": [
    "result in acceptable_values"
   ]
  },
  {
   "cell_type": "code",
   "execution_count": 38,
   "id": "9c9dae79",
   "metadata": {},
   "outputs": [
    {
     "data": {
      "text/plain": [
       "True"
      ]
     },
     "execution_count": 38,
     "metadata": {},
     "output_type": "execute_result"
    }
   ],
   "source": [
    "result not in acceptable_values"
   ]
  },
  {
   "cell_type": "code",
   "execution_count": 40,
   "id": "1e67e951",
   "metadata": {},
   "outputs": [],
   "source": [
    "def user_choice():\n",
    "    # VARIABLES\n",
    "    \n",
    "    # Initial\n",
    "    choice = 'WRONG'\n",
    "    acceptable_range = range(0,10)\n",
    "    within_range = False\n",
    "    \n",
    "    # TWO CONDITIONS TO CHECK\n",
    "    # DIGIT OR WITHIN_RANGE == FALSE\n",
    "    while choice.isdigit() == False or within_range == False:\n",
    "        choice = input('Please enter a number (0-10): ')\n",
    "        \n",
    "        # DIGIT CHECK\n",
    "        if choice.isdigit() == False:\n",
    "            print('Sorry that is not a digit!')\n",
    "    \n",
    "        # RANGE CHECK\n",
    "        if choice.isdigit() == True:\n",
    "            if int(choice) in acceptable_range:\n",
    "                within_range = True\n",
    "            else:\n",
    "                print('Sorry, you are out of acceptable range (0-10)')\n",
    "                within_range = False\n",
    "    \n",
    "    return int(choice)"
   ]
  },
  {
   "cell_type": "code",
   "execution_count": 41,
   "id": "0fbe3dbf",
   "metadata": {},
   "outputs": [
    {
     "name": "stdout",
     "output_type": "stream",
     "text": [
      "Please enter a number (0-10): two\n",
      "Sorry that is not a digit!\n",
      "Please enter a number (0-10): 100\n",
      "Sorry, you are out of acceptable range (0-10)\n",
      "Please enter a number (0-10): 5\n"
     ]
    },
    {
     "data": {
      "text/plain": [
       "5"
      ]
     },
     "execution_count": 41,
     "metadata": {},
     "output_type": "execute_result"
    }
   ],
   "source": [
    "user_choice()"
   ]
  },
  {
   "cell_type": "markdown",
   "id": "e5fd2887",
   "metadata": {},
   "source": [
    "## Simple User Interaction"
   ]
  },
  {
   "cell_type": "code",
   "execution_count": 1,
   "id": "def8797f",
   "metadata": {},
   "outputs": [],
   "source": [
    "game_list = [0,1,2]"
   ]
  },
  {
   "cell_type": "code",
   "execution_count": 3,
   "id": "423ccaaf",
   "metadata": {
    "scrolled": true
   },
   "outputs": [
    {
     "name": "stdout",
     "output_type": "stream",
     "text": [
      "Here is the current list: \n",
      "[0, 1, 2]\n"
     ]
    }
   ],
   "source": [
    "def display_game(game_list):\n",
    "    print('Here is the current list: ')\n",
    "    print(game_list)\n",
    "    \n",
    "display_game(game_list)"
   ]
  },
  {
   "cell_type": "code",
   "execution_count": 4,
   "id": "1561dea2",
   "metadata": {},
   "outputs": [],
   "source": [
    "def position_choice():\n",
    "    choice = 'wrong'\n",
    "    \n",
    "    while choice not in ['0','1','2']:\n",
    "        choice = input('Pick a position (0,1,2): ')\n",
    "        \n",
    "        if choice not in ['0','1','2']:\n",
    "            print('Sorry, invalid choice!')\n",
    "            \n",
    "    return int(choice)"
   ]
  },
  {
   "cell_type": "code",
   "execution_count": 5,
   "id": "5af8ce5e",
   "metadata": {
    "scrolled": true
   },
   "outputs": [
    {
     "name": "stdout",
     "output_type": "stream",
     "text": [
      "Pick a position (0,1,2): two\n",
      "Sorry, invalid choice!\n",
      "Pick a position (0,1,2): 24\n",
      "Sorry, invalid choice!\n",
      "Pick a position (0,1,2): 1\n"
     ]
    },
    {
     "data": {
      "text/plain": [
       "1"
      ]
     },
     "execution_count": 5,
     "metadata": {},
     "output_type": "execute_result"
    }
   ],
   "source": [
    "position_choice()"
   ]
  },
  {
   "cell_type": "code",
   "execution_count": 6,
   "id": "9c9763ba",
   "metadata": {},
   "outputs": [],
   "source": [
    "def replacement_choice(game_list, position):\n",
    "    user_placement = input('Type a string to place at position: ')\n",
    "    game_list[position] = user_placement\n",
    "    return game_list"
   ]
  },
  {
   "cell_type": "code",
   "execution_count": 7,
   "id": "e1c0f382",
   "metadata": {},
   "outputs": [
    {
     "name": "stdout",
     "output_type": "stream",
     "text": [
      "Type a string to place at position: test\n"
     ]
    },
    {
     "data": {
      "text/plain": [
       "[0, 'test', 2]"
      ]
     },
     "execution_count": 7,
     "metadata": {},
     "output_type": "execute_result"
    }
   ],
   "source": [
    "replacement_choice(game_list, 1)"
   ]
  },
  {
   "cell_type": "code",
   "execution_count": 8,
   "id": "62bc7179",
   "metadata": {},
   "outputs": [],
   "source": [
    "def gameon_choice():\n",
    "    choice = 'wrong'\n",
    "    \n",
    "    while choice not in ['Y','N']:\n",
    "        choice = input('Keep playing? (Y or N) ')\n",
    "        \n",
    "        if choice not in ['Y','N']:\n",
    "            print('Sorry, I do not understand, please choose Y or N!')\n",
    "            \n",
    "    if choice == 'Y':\n",
    "        return True\n",
    "    else:\n",
    "        return False"
   ]
  },
  {
   "cell_type": "code",
   "execution_count": 9,
   "id": "dae18ead",
   "metadata": {},
   "outputs": [
    {
     "name": "stdout",
     "output_type": "stream",
     "text": [
      "Keep playing? (Y or N) wrong\n",
      "Sorry, I do not understand, please choose Y or N!\n",
      "Keep playing? (Y or N) Y\n"
     ]
    },
    {
     "data": {
      "text/plain": [
       "True"
      ]
     },
     "execution_count": 9,
     "metadata": {},
     "output_type": "execute_result"
    }
   ],
   "source": [
    "gameon_choice()"
   ]
  },
  {
   "cell_type": "code",
   "execution_count": 10,
   "id": "a86f24c3",
   "metadata": {},
   "outputs": [
    {
     "name": "stdout",
     "output_type": "stream",
     "text": [
      "Here is the current list: \n",
      "[0, 1, 2]\n",
      "Pick a position (0,1,2): two\n",
      "Sorry, invalid choice!\n",
      "Pick a position (0,1,2): 1\n",
      "Type a string to place at position: my choice\n",
      "Here is the current list: \n",
      "[0, 'my choice', 2]\n",
      "Keep playing? (Y or N) Y\n",
      "Here is the current list: \n",
      "[0, 'my choice', 2]\n",
      "Pick a position (0,1,2): 0\n",
      "Type a string to place at position: test\n",
      "Here is the current list: \n",
      "['test', 'my choice', 2]\n",
      "Keep playing? (Y or N) N\n"
     ]
    }
   ],
   "source": [
    "game_on = True\n",
    "game_list = [0,1,2]\n",
    "\n",
    "while game_on:\n",
    "    display_game(game_list)\n",
    "    position = position_choice()\n",
    "    game_list = replacement_choice(game_list, position)\n",
    "    display_game(game_list)\n",
    "    game_on = gameon_choice()"
   ]
  },
  {
   "cell_type": "markdown",
   "id": "2142f261",
   "metadata": {},
   "source": [
    "## First Python Milestone Project"
   ]
  },
  {
   "cell_type": "code",
   "execution_count": 23,
   "id": "f13d0527",
   "metadata": {},
   "outputs": [],
   "source": [
    "from IPython.display import clear_output\n",
    "\n",
    "def display_board(board):\n",
    "    clear_output()\n",
    "    print(board[7] + '|' + board[8] + '|' + board[9])\n",
    "    print('-----')\n",
    "    print(board[4] + '|' + board[5] + '|' + board[6])\n",
    "    print('-----')\n",
    "    print(board[1] + '|' + board[2] + '|' + board[3])"
   ]
  },
  {
   "cell_type": "code",
   "execution_count": 24,
   "id": "c0ff5d30",
   "metadata": {},
   "outputs": [
    {
     "name": "stdout",
     "output_type": "stream",
     "text": [
      " | | \n",
      "-----\n",
      " | | \n",
      "-----\n",
      " | | \n"
     ]
    }
   ],
   "source": [
    "test_board = [' '] * 10\n",
    "display_board(test_board)"
   ]
  },
  {
   "cell_type": "code",
   "execution_count": 25,
   "id": "09234563",
   "metadata": {},
   "outputs": [],
   "source": [
    "def player_input():\n",
    "    marker = ''\n",
    "    \n",
    "    # KEEP ASKING PLAYER 1 TO CHOOSE X OR 0\n",
    "    while marker != 'X' and marker != 'O':\n",
    "        marker = input('Player 1, choose X or O: ')\n",
    "        \n",
    "    # ASSIGN PLAYER 2, THE OPPOSITE MARKER\n",
    "    player1 = marker\n",
    "    \n",
    "    if player1 == 'X':\n",
    "        player2 = 'O'\n",
    "    else:\n",
    "        player2 = 'X'\n",
    "        \n",
    "    return (player1, player2)"
   ]
  },
  {
   "cell_type": "code",
   "execution_count": 27,
   "id": "c5bc740d",
   "metadata": {},
   "outputs": [
    {
     "name": "stdout",
     "output_type": "stream",
     "text": [
      "Player 1, choose X or O: X\n"
     ]
    }
   ],
   "source": [
    "player1_marker, player2_marker = player_input()"
   ]
  },
  {
   "cell_type": "markdown",
   "id": "8598dfa3",
   "metadata": {},
   "source": [
    "## Solutions"
   ]
  },
  {
   "cell_type": "markdown",
   "id": "11ef9ebf",
   "metadata": {},
   "source": [
    "**Step 1: Write a function that can print out a board. Set up your board as a list, where each index 1-9 corresponds with a number on a number pad, so you get a 3 by 3 board representation.**"
   ]
  },
  {
   "cell_type": "code",
   "execution_count": 2,
   "id": "d8ed87aa",
   "metadata": {},
   "outputs": [],
   "source": [
    "from IPython.display import clear_output\n",
    "\n",
    "def display_board(board):\n",
    "    clear_output()\n",
    "    print(board[7] + '|' + board[8] + '|' + board[9])\n",
    "    print(board[4] + '|' + board[5] + '|' + board[6])\n",
    "    print(board[1] + '|' + board[2] + '|' + board[3])"
   ]
  },
  {
   "cell_type": "code",
   "execution_count": 3,
   "id": "fba5fb61",
   "metadata": {},
   "outputs": [
    {
     "name": "stdout",
     "output_type": "stream",
     "text": [
      "X|O|X\n",
      "O|X|O\n",
      "X|O|X\n"
     ]
    }
   ],
   "source": [
    "test_board = ['#','X','O','X','O','X','O','X','O','X']\n",
    "display_board(test_board)"
   ]
  },
  {
   "cell_type": "markdown",
   "id": "1005e805",
   "metadata": {},
   "source": [
    "**Step 2: Write a function that can take in a player input and assign their marker 'X' or 'O'.  \n",
    "Think about using _while_ loops to conitnually ask until you get a correct answer.**"
   ]
  },
  {
   "cell_type": "code",
   "execution_count": 5,
   "id": "5283684d",
   "metadata": {},
   "outputs": [],
   "source": [
    "def player_input():\n",
    "    \"\"\"\n",
    "    OUTPUT = (Player 1 marker, Player 2 marker)\n",
    "    \"\"\"\n",
    "    \n",
    "    marker = ''\n",
    "    \n",
    "    while marker != 'X' and marker != 'O':\n",
    "        marker = input('Player1: Choose X or O: ').upper()\n",
    "        \n",
    "    if marker == 'X':\n",
    "        return ('X','O')\n",
    "    else:\n",
    "        return ('O','X')"
   ]
  },
  {
   "cell_type": "markdown",
   "id": "23220559",
   "metadata": {},
   "source": [
    "**Step 3: Write a function that takes in a board list object, a marker ('X' or 'O'), and a desired position (number 1-9) and assigns it to the board.**"
   ]
  },
  {
   "cell_type": "code",
   "execution_count": 6,
   "id": "703711c3",
   "metadata": {},
   "outputs": [],
   "source": [
    "def place_marker(board, marker, position):\n",
    "    \n",
    "    board[position] = marker"
   ]
  },
  {
   "cell_type": "code",
   "execution_count": 7,
   "id": "6a63ded3",
   "metadata": {},
   "outputs": [
    {
     "name": "stdout",
     "output_type": "stream",
     "text": [
      "X|$|X\n",
      "O|X|O\n",
      "X|O|X\n"
     ]
    }
   ],
   "source": [
    "place_marker(test_board, '$', 8)\n",
    "display_board(test_board)"
   ]
  },
  {
   "cell_type": "markdown",
   "id": "4d22d541",
   "metadata": {},
   "source": [
    "**Step 4: Write a function that takes in a board and a mark (X or O) and then checks to see if that mark has won.**"
   ]
  },
  {
   "cell_type": "code",
   "execution_count": 20,
   "id": "eaf4325c",
   "metadata": {},
   "outputs": [],
   "source": [
    "def win_check(board, mark):\n",
    "    \n",
    "    # WIN TIC TAC TOE?\n",
    "    \n",
    "    # ALL ROWS, AND CHECK TO SEE IF THEY ALL SHARE THE SAME MARKER?\n",
    "    # ALL CLOLUMNS, CHECK TO SEE IF MARKER MATCHES\n",
    "    # 2 DIAGONALS, CHECK TO SEE MATCH\n",
    "    \n",
    "    # across\n",
    "    return ((board[7] == board[8] == board[9] == mark) or\n",
    "    # across\n",
    "    (board[4] == board[5] == board[6] == mark) or\n",
    "    # across\n",
    "    (board[1] == board[2] == board[3] == mark) or\n",
    "    # down\n",
    "    (board[7] == board[4] == board[1] == mark) or\n",
    "    # down\n",
    "    (board[8] == board[5] == board[2] == mark) or\n",
    "    # down\n",
    "    (board[9] == board[6] == board[3] == mark) or\n",
    "    # diagonal\n",
    "    (board[7] == board[5] == board[3] == mark) or\n",
    "    # diagonal\n",
    "    (board[9] == board[5] == board[1] == mark))"
   ]
  },
  {
   "cell_type": "code",
   "execution_count": 23,
   "id": "777c6b9d",
   "metadata": {},
   "outputs": [
    {
     "name": "stdout",
     "output_type": "stream",
     "text": [
      "X|$|X\n",
      "O|X|O\n",
      "X|O|X\n"
     ]
    },
    {
     "data": {
      "text/plain": [
       "True"
      ]
     },
     "execution_count": 23,
     "metadata": {},
     "output_type": "execute_result"
    }
   ],
   "source": [
    "display_board(test_board)\n",
    "win_check(test_board, 'X')"
   ]
  },
  {
   "cell_type": "markdown",
   "id": "842ed2be",
   "metadata": {},
   "source": [
    "**Write a function that uses the random module to randomly decide which player goes first.  \n",
    "You may want to lookup `random.randint()`. Return a string of which player went first.**"
   ]
  },
  {
   "cell_type": "code",
   "execution_count": 24,
   "id": "415e712e",
   "metadata": {},
   "outputs": [],
   "source": [
    "import random\n",
    "\n",
    "def choose_first():\n",
    "    \n",
    "    flip = random.randint(0,1)\n",
    "    \n",
    "    if flip == 0:\n",
    "        return 'Player1'\n",
    "    else:\n",
    "        return 'Player2'"
   ]
  },
  {
   "cell_type": "markdown",
   "id": "a44c1a1c",
   "metadata": {},
   "source": [
    "**Step 6: Write a function that returns a boolean indicating whether a space on the board is freely available.**"
   ]
  },
  {
   "cell_type": "code",
   "execution_count": 25,
   "id": "868863b9",
   "metadata": {},
   "outputs": [],
   "source": [
    "def space_check(board, position):\n",
    "    \n",
    "    return board[position] == ' '"
   ]
  },
  {
   "cell_type": "markdown",
   "id": "69e82903",
   "metadata": {},
   "source": [
    "**Step 7: Write a function that checks if the board is full and returns a boolean value.  \n",
    "True if full, False otherwise.**"
   ]
  },
  {
   "cell_type": "code",
   "execution_count": 26,
   "id": "89ebb698",
   "metadata": {},
   "outputs": [],
   "source": [
    "def full_board_check(board):\n",
    "    \n",
    "    for i in range(1,10):\n",
    "        if space_check(board,i):\n",
    "            return False\n",
    "    \n",
    "    # BOARD IS FULL IF WE RETURN TRUE\n",
    "    return True"
   ]
  },
  {
   "cell_type": "markdown",
   "id": "c5e215ae",
   "metadata": {},
   "source": [
    "**Step 8: Write a function that asks a player's next position (as a number 1-9) and then uses a function from step 6 to check if it's a free position. If it is, then return the position for later use.**"
   ]
  },
  {
   "cell_type": "code",
   "execution_count": 27,
   "id": "2104f88f",
   "metadata": {},
   "outputs": [],
   "source": [
    "def player_choice(board):\n",
    "    \n",
    "    position = 0\n",
    "    \n",
    "    while position not in [1,2,3,4,5,6,7,8,9] or not space_check(board, position):\n",
    "        position = int(input('Choose a position: (1-9) '))\n",
    "        \n",
    "    return position"
   ]
  },
  {
   "cell_type": "markdown",
   "id": "33f3362f",
   "metadata": {},
   "source": [
    "**Step 9: Write a function that asks the player if they want to play again and returns a boolean True if they do want to play again.**"
   ]
  },
  {
   "cell_type": "code",
   "execution_count": 28,
   "id": "d8653f9b",
   "metadata": {},
   "outputs": [],
   "source": [
    "def replay():\n",
    "    \n",
    "    choice = input('Play again? Enter Yes or No ')\n",
    "    \n",
    "    return choice == 'Yes'"
   ]
  },
  {
   "cell_type": "markdown",
   "id": "d2cb09df",
   "metadata": {},
   "source": [
    "**Step 10: Here comes the hard part! Use while loops and the functions you've made to run the game!**"
   ]
  },
  {
   "cell_type": "code",
   "execution_count": 29,
   "id": "64081348",
   "metadata": {},
   "outputs": [
    {
     "name": "stdout",
     "output_type": "stream",
     "text": [
      "Welcome to Tic Tac Toe\n",
      "Player1: Choose X or O: X\n"
     ]
    },
    {
     "ename": "TypeError",
     "evalue": "unsupported operand type(s) for +: 'NoneType' and 'str'",
     "output_type": "error",
     "traceback": [
      "\u001b[1;31m---------------------------------------------------------------------------\u001b[0m",
      "\u001b[1;31mTypeError\u001b[0m                                 Traceback (most recent call last)",
      "\u001b[1;32m<ipython-input-29-45b843148b89>\u001b[0m in \u001b[0;36m<module>\u001b[1;34m\u001b[0m\n\u001b[0;32m     11\u001b[0m \u001b[1;33m\u001b[0m\u001b[0m\n\u001b[0;32m     12\u001b[0m     \u001b[0mturn\u001b[0m \u001b[1;33m=\u001b[0m \u001b[0mchoose_first\u001b[0m\u001b[1;33m(\u001b[0m\u001b[1;33m)\u001b[0m\u001b[1;33m\u001b[0m\u001b[1;33m\u001b[0m\u001b[0m\n\u001b[1;32m---> 13\u001b[1;33m     \u001b[0mprint\u001b[0m\u001b[1;33m(\u001b[0m\u001b[0mturn\u001b[0m \u001b[1;33m+\u001b[0m \u001b[1;34m' will go first'\u001b[0m\u001b[1;33m)\u001b[0m\u001b[1;33m\u001b[0m\u001b[1;33m\u001b[0m\u001b[0m\n\u001b[0m\u001b[0;32m     14\u001b[0m \u001b[1;33m\u001b[0m\u001b[0m\n\u001b[0;32m     15\u001b[0m     \u001b[0mplay_game\u001b[0m \u001b[1;33m=\u001b[0m \u001b[0minput\u001b[0m\u001b[1;33m(\u001b[0m\u001b[1;34m'Ready to play? y or n? '\u001b[0m\u001b[1;33m)\u001b[0m\u001b[1;33m\u001b[0m\u001b[1;33m\u001b[0m\u001b[0m\n",
      "\u001b[1;31mTypeError\u001b[0m: unsupported operand type(s) for +: 'NoneType' and 'str'"
     ]
    }
   ],
   "source": [
    "# WHILE LOOP TO KEEP RUNNING THE GAME\n",
    "print('Welcome to Tic Tac Toe')\n",
    "\n",
    "while True:\n",
    "    \n",
    "    # PLAY THE GAME\n",
    "    \n",
    "    ## SET EVERYTHING UP (BOARD, WHO'S FIRST, CHOOSE MARKERS X,O)\n",
    "    the_board = [' ']*10\n",
    "    player1_marker, player2_marker = player_input()\n",
    "    \n",
    "    turn = choose_first()\n",
    "    print(turn + ' will go first')\n",
    "    \n",
    "    play_game = input('Ready to play? y or n? ')\n",
    "    \n",
    "    if play_game == 'y':\n",
    "        game_on = True\n",
    "    else:\n",
    "        game_on = False\n",
    "    \n",
    "    ## GAMEPLAY\n",
    "    while game_on:\n",
    "        \n",
    "        if turn == 'Player 1':\n",
    "            # Show the board\n",
    "            display_board(the_board)\n",
    "            \n",
    "            # Choose a position\n",
    "            position = player_choice(the_board)\n",
    "            \n",
    "            # Place the marker on the board\n",
    "            place_marker(the_board, player1_marker, position)\n",
    "            \n",
    "            # Check if they won\n",
    "            if win_check(the_board, player1_marker):\n",
    "                display_board(the_board)\n",
    "                print('Player 1 HAS WON!!')\n",
    "                game_on = False\n",
    "            else:\n",
    "                if full_board_check(the_board):\n",
    "                    display_board(the_board)\n",
    "                    print('TIE GAME!')\n",
    "                    game_on = False\n",
    "                else:\n",
    "                    turn = 'Player 2'\n",
    "                \n",
    "            # Check if there is a tie\n",
    "            # No tie and no win? The next player's turn\n",
    "            \n",
    "        ### PLAYER 1 TURN\n",
    "    \n",
    "        else:\n",
    "            # Show the board\n",
    "            display_board(the_board)\n",
    "            \n",
    "            # Choose a position\n",
    "            position = player_choice(the_board)\n",
    "            \n",
    "            # Place the marker on the board\n",
    "            place_marker(the_board, player2_marker, position)\n",
    "            \n",
    "            # Check if they won\n",
    "            if win_check(the_board, player2_marker):\n",
    "                display_board(the_board)\n",
    "                print('Player 2 HAS WON!!')\n",
    "                game_on = False\n",
    "            else:\n",
    "                if full_board_check(the_board):\n",
    "                    display_board(the_board)\n",
    "                    print('TIE GAME!')\n",
    "                    game_on = False\n",
    "                else:\n",
    "                    turn = 'Player 1'\n",
    "    \n",
    "        ### PLAYER 2 TURN\n",
    "    \n",
    "    if not replay():\n",
    "        break\n",
    "    # BREAK OUT OF THE WHILE LOOP ON replay()"
   ]
  },
  {
   "cell_type": "code",
   "execution_count": null,
   "id": "e132cae5",
   "metadata": {},
   "outputs": [],
   "source": []
  }
 ],
 "metadata": {
  "kernelspec": {
   "display_name": "Python 3",
   "language": "python",
   "name": "python3"
  },
  "language_info": {
   "codemirror_mode": {
    "name": "ipython",
    "version": 3
   },
   "file_extension": ".py",
   "mimetype": "text/x-python",
   "name": "python",
   "nbconvert_exporter": "python",
   "pygments_lexer": "ipython3",
   "version": "3.8.8"
  }
 },
 "nbformat": 4,
 "nbformat_minor": 5
}
