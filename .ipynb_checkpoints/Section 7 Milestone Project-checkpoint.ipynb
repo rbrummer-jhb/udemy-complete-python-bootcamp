{
 "cells": [
  {
   "cell_type": "markdown",
   "id": "f9c86d68",
   "metadata": {},
   "source": [
    "## Displaying Information"
   ]
  },
  {
   "cell_type": "code",
   "execution_count": 1,
   "id": "619e4199",
   "metadata": {},
   "outputs": [
    {
     "name": "stdout",
     "output_type": "stream",
     "text": [
      "[1, 2, 3]\n"
     ]
    }
   ],
   "source": [
    "print([1,2,3])"
   ]
  },
  {
   "cell_type": "code",
   "execution_count": 2,
   "id": "8cdedc63",
   "metadata": {},
   "outputs": [
    {
     "name": "stdout",
     "output_type": "stream",
     "text": [
      "[1, 2, 3]\n",
      "[4, 5, 6]\n",
      "[7, 8, 9]\n"
     ]
    }
   ],
   "source": [
    "print([1,2,3])\n",
    "print([4,5,6])\n",
    "print([7,8,9])"
   ]
  },
  {
   "cell_type": "code",
   "execution_count": 3,
   "id": "dae02c12",
   "metadata": {},
   "outputs": [],
   "source": [
    "def display(row1, row2, row3):\n",
    "    print(row1)\n",
    "    print(row2)\n",
    "    print(row3)"
   ]
  },
  {
   "cell_type": "code",
   "execution_count": 4,
   "id": "1568e87d",
   "metadata": {},
   "outputs": [
    {
     "name": "stdout",
     "output_type": "stream",
     "text": [
      "[1, 2, 3]\n",
      "[1, 2, 3]\n",
      "[1, 2, 3]\n"
     ]
    }
   ],
   "source": [
    "example_row = [1,2,3]\n",
    "\n",
    "display(example_row, example_row, example_row)"
   ]
  },
  {
   "cell_type": "code",
   "execution_count": 5,
   "id": "98e030ca",
   "metadata": {},
   "outputs": [
    {
     "name": "stdout",
     "output_type": "stream",
     "text": [
      "[' ', ' ', ' ']\n",
      "[' ', ' ', ' ']\n",
      "[' ', ' ', ' ']\n"
     ]
    }
   ],
   "source": [
    "row1 = [' ',' ',' ']\n",
    "row2 = [' ',' ',' ']\n",
    "row3 = [' ',' ',' ']\n",
    "\n",
    "display(row1, row2, row3)"
   ]
  },
  {
   "cell_type": "code",
   "execution_count": 6,
   "id": "d410e140",
   "metadata": {},
   "outputs": [],
   "source": [
    "row2[1] = 'X'"
   ]
  },
  {
   "cell_type": "code",
   "execution_count": 7,
   "id": "b7ccc2d1",
   "metadata": {},
   "outputs": [
    {
     "name": "stdout",
     "output_type": "stream",
     "text": [
      "[' ', ' ', ' ']\n",
      "[' ', 'X', ' ']\n",
      "[' ', ' ', ' ']\n"
     ]
    }
   ],
   "source": [
    "display(row1, row2, row3)"
   ]
  },
  {
   "cell_type": "markdown",
   "id": "ce783bee",
   "metadata": {},
   "source": [
    "## Accepting User Input"
   ]
  },
  {
   "cell_type": "code",
   "execution_count": 8,
   "id": "130ff3a3",
   "metadata": {},
   "outputs": [
    {
     "name": "stdout",
     "output_type": "stream",
     "text": [
      "Please enter a value: 2\n"
     ]
    },
    {
     "data": {
      "text/plain": [
       "'2'"
      ]
     },
     "execution_count": 8,
     "metadata": {},
     "output_type": "execute_result"
    }
   ],
   "source": [
    "input('Please enter a value: ')"
   ]
  },
  {
   "cell_type": "code",
   "execution_count": 9,
   "id": "8ec0850e",
   "metadata": {},
   "outputs": [
    {
     "name": "stdout",
     "output_type": "stream",
     "text": [
      "Please enter a value: 2\n"
     ]
    }
   ],
   "source": [
    "result = input('Please enter a value: ')"
   ]
  },
  {
   "cell_type": "code",
   "execution_count": 10,
   "id": "2cab7e1f",
   "metadata": {},
   "outputs": [
    {
     "name": "stdout",
     "output_type": "stream",
     "text": [
      "2\n"
     ]
    }
   ],
   "source": [
    "print(result)"
   ]
  },
  {
   "cell_type": "code",
   "execution_count": 11,
   "id": "a2b58a09",
   "metadata": {},
   "outputs": [
    {
     "data": {
      "text/plain": [
       "str"
      ]
     },
     "execution_count": 11,
     "metadata": {},
     "output_type": "execute_result"
    }
   ],
   "source": [
    "type(result)"
   ]
  },
  {
   "cell_type": "code",
   "execution_count": 12,
   "id": "09d18e61",
   "metadata": {},
   "outputs": [
    {
     "name": "stdout",
     "output_type": "stream",
     "text": [
      "Enter value: 2\n"
     ]
    }
   ],
   "source": [
    "result = input('Enter value: ')"
   ]
  },
  {
   "cell_type": "code",
   "execution_count": 13,
   "id": "db90999b",
   "metadata": {},
   "outputs": [],
   "source": [
    "result_int = int(result)"
   ]
  },
  {
   "cell_type": "code",
   "execution_count": 14,
   "id": "b6b911fa",
   "metadata": {},
   "outputs": [
    {
     "data": {
      "text/plain": [
       "str"
      ]
     },
     "execution_count": 14,
     "metadata": {},
     "output_type": "execute_result"
    }
   ],
   "source": [
    "type(result)"
   ]
  },
  {
   "cell_type": "code",
   "execution_count": 15,
   "id": "ae0f5b3b",
   "metadata": {},
   "outputs": [
    {
     "data": {
      "text/plain": [
       "int"
      ]
     },
     "execution_count": 15,
     "metadata": {},
     "output_type": "execute_result"
    }
   ],
   "source": [
    "type(result_int)"
   ]
  },
  {
   "cell_type": "code",
   "execution_count": 16,
   "id": "fa93add6",
   "metadata": {},
   "outputs": [
    {
     "data": {
      "text/plain": [
       "float"
      ]
     },
     "execution_count": 16,
     "metadata": {},
     "output_type": "execute_result"
    }
   ],
   "source": [
    "type(2.3)"
   ]
  },
  {
   "cell_type": "code",
   "execution_count": 17,
   "id": "38e61411",
   "metadata": {},
   "outputs": [
    {
     "data": {
      "text/plain": [
       "3.14"
      ]
     },
     "execution_count": 17,
     "metadata": {},
     "output_type": "execute_result"
    }
   ],
   "source": [
    "float('3.14')"
   ]
  },
  {
   "cell_type": "code",
   "execution_count": 20,
   "id": "3337012d",
   "metadata": {},
   "outputs": [
    {
     "name": "stdout",
     "output_type": "stream",
     "text": [
      "Choose an index position: 1\n"
     ]
    }
   ],
   "source": [
    "position_index = int(input('Choose an index position: '))"
   ]
  },
  {
   "cell_type": "code",
   "execution_count": 22,
   "id": "718ff1fd",
   "metadata": {},
   "outputs": [
    {
     "data": {
      "text/plain": [
       "[' ', ' ', ' ']"
      ]
     },
     "execution_count": 22,
     "metadata": {},
     "output_type": "execute_result"
    }
   ],
   "source": [
    "row1"
   ]
  },
  {
   "cell_type": "code",
   "execution_count": 23,
   "id": "9b2098bc",
   "metadata": {},
   "outputs": [
    {
     "data": {
      "text/plain": [
       "int"
      ]
     },
     "execution_count": 23,
     "metadata": {},
     "output_type": "execute_result"
    }
   ],
   "source": [
    "type(position_index)"
   ]
  },
  {
   "cell_type": "code",
   "execution_count": 24,
   "id": "2f12d927",
   "metadata": {
    "scrolled": false
   },
   "outputs": [
    {
     "data": {
      "text/plain": [
       "'X'"
      ]
     },
     "execution_count": 24,
     "metadata": {},
     "output_type": "execute_result"
    }
   ],
   "source": [
    "row2[position_index]"
   ]
  },
  {
   "cell_type": "markdown",
   "id": "79be2a59",
   "metadata": {},
   "source": [
    "## Validating User Input"
   ]
  },
  {
   "cell_type": "code",
   "execution_count": 33,
   "id": "4a335315",
   "metadata": {},
   "outputs": [],
   "source": [
    "def user_choice():\n",
    "    choice = 'WRONG'\n",
    "    \n",
    "    while choice.isdigit() == False:\n",
    "        choice = input('Please enter a number (0-10): ')\n",
    "        \n",
    "        if choice.isdigit() == False:\n",
    "            print('Sorry that is not a digit!')\n",
    "    \n",
    "    return int(choice)"
   ]
  },
  {
   "cell_type": "code",
   "execution_count": 34,
   "id": "ff2a3db6",
   "metadata": {},
   "outputs": [
    {
     "name": "stdout",
     "output_type": "stream",
     "text": [
      "Please enter a number (0-10): two\n",
      "Sorry that is not a digit!\n",
      "Please enter a number (0-10): asdf\n",
      "Sorry that is not a digit!\n",
      "Please enter a number (0-10): qwerty\n",
      "Sorry that is not a digit!\n",
      "Please enter a number (0-10): 2\n"
     ]
    },
    {
     "data": {
      "text/plain": [
       "2"
      ]
     },
     "execution_count": 34,
     "metadata": {},
     "output_type": "execute_result"
    }
   ],
   "source": [
    "user_choice()"
   ]
  },
  {
   "cell_type": "code",
   "execution_count": 35,
   "id": "9bb73cda",
   "metadata": {},
   "outputs": [],
   "source": [
    "result = 'WRONG VALUE'"
   ]
  },
  {
   "cell_type": "code",
   "execution_count": 36,
   "id": "9f8c5f05",
   "metadata": {},
   "outputs": [],
   "source": [
    "acceptable_values = [0,1,2]"
   ]
  },
  {
   "cell_type": "code",
   "execution_count": 37,
   "id": "c23c9810",
   "metadata": {},
   "outputs": [
    {
     "data": {
      "text/plain": [
       "False"
      ]
     },
     "execution_count": 37,
     "metadata": {},
     "output_type": "execute_result"
    }
   ],
   "source": [
    "result in acceptable_values"
   ]
  },
  {
   "cell_type": "code",
   "execution_count": 38,
   "id": "9c9dae79",
   "metadata": {},
   "outputs": [
    {
     "data": {
      "text/plain": [
       "True"
      ]
     },
     "execution_count": 38,
     "metadata": {},
     "output_type": "execute_result"
    }
   ],
   "source": [
    "result not in acceptable_values"
   ]
  },
  {
   "cell_type": "code",
   "execution_count": 40,
   "id": "1e67e951",
   "metadata": {},
   "outputs": [],
   "source": [
    "def user_choice():\n",
    "    # VARIABLES\n",
    "    \n",
    "    # Initial\n",
    "    choice = 'WRONG'\n",
    "    acceptable_range = range(0,10)\n",
    "    within_range = False\n",
    "    \n",
    "    # TWO CONDITIONS TO CHECK\n",
    "    # DIGIT OR WITHIN_RANGE == FALSE\n",
    "    while choice.isdigit() == False or within_range == False:\n",
    "        choice = input('Please enter a number (0-10): ')\n",
    "        \n",
    "        # DIGIT CHECK\n",
    "        if choice.isdigit() == False:\n",
    "            print('Sorry that is not a digit!')\n",
    "    \n",
    "        # RANGE CHECK\n",
    "        if choice.isdigit() == True:\n",
    "            if int(choice) in acceptable_range:\n",
    "                within_range = True\n",
    "            else:\n",
    "                print('Sorry, you are out of acceptable range (0-10)')\n",
    "                within_range = False\n",
    "    \n",
    "    return int(choice)"
   ]
  },
  {
   "cell_type": "code",
   "execution_count": 41,
   "id": "0fbe3dbf",
   "metadata": {},
   "outputs": [
    {
     "name": "stdout",
     "output_type": "stream",
     "text": [
      "Please enter a number (0-10): two\n",
      "Sorry that is not a digit!\n",
      "Please enter a number (0-10): 100\n",
      "Sorry, you are out of acceptable range (0-10)\n",
      "Please enter a number (0-10): 5\n"
     ]
    },
    {
     "data": {
      "text/plain": [
       "5"
      ]
     },
     "execution_count": 41,
     "metadata": {},
     "output_type": "execute_result"
    }
   ],
   "source": [
    "user_choice()"
   ]
  },
  {
   "cell_type": "markdown",
   "id": "c74de187",
   "metadata": {},
   "source": [
    "## Simple User Interaction"
   ]
  },
  {
   "cell_type": "code",
   "execution_count": 1,
   "id": "c227a37e",
   "metadata": {},
   "outputs": [],
   "source": [
    "game_list = [0,1,2]"
   ]
  },
  {
   "cell_type": "code",
   "execution_count": 3,
   "id": "19a5cf7e",
   "metadata": {
    "scrolled": true
   },
   "outputs": [
    {
     "name": "stdout",
     "output_type": "stream",
     "text": [
      "Here is the current list: \n",
      "[0, 1, 2]\n"
     ]
    }
   ],
   "source": [
    "def display_game(game_list):\n",
    "    print('Here is the current list: ')\n",
    "    print(game_list)\n",
    "    \n",
    "display_game(game_list)"
   ]
  },
  {
   "cell_type": "code",
   "execution_count": 4,
   "id": "68bc297a",
   "metadata": {},
   "outputs": [],
   "source": [
    "def position_choice():\n",
    "    choice = 'wrong'\n",
    "    \n",
    "    while choice not in ['0','1','2']:\n",
    "        choice = input('Pick a position (0,1,2): ')\n",
    "        \n",
    "        if choice not in ['0','1','2']:\n",
    "            print('Sorry, invalid choice!')\n",
    "            \n",
    "    return int(choice)"
   ]
  },
  {
   "cell_type": "code",
   "execution_count": 5,
   "id": "185cdb0b",
   "metadata": {
    "scrolled": true
   },
   "outputs": [
    {
     "name": "stdout",
     "output_type": "stream",
     "text": [
      "Pick a position (0,1,2): two\n",
      "Sorry, invalid choice!\n",
      "Pick a position (0,1,2): 24\n",
      "Sorry, invalid choice!\n",
      "Pick a position (0,1,2): 1\n"
     ]
    },
    {
     "data": {
      "text/plain": [
       "1"
      ]
     },
     "execution_count": 5,
     "metadata": {},
     "output_type": "execute_result"
    }
   ],
   "source": [
    "position_choice()"
   ]
  },
  {
   "cell_type": "code",
   "execution_count": 6,
   "id": "887c180e",
   "metadata": {},
   "outputs": [],
   "source": [
    "def replacement_choice(game_list, position):\n",
    "    user_placement = input('Type a string to place at position: ')\n",
    "    game_list[position] = user_placement\n",
    "    return game_list"
   ]
  },
  {
   "cell_type": "code",
   "execution_count": 7,
   "id": "fb0f0597",
   "metadata": {},
   "outputs": [
    {
     "name": "stdout",
     "output_type": "stream",
     "text": [
      "Type a string to place at position: test\n"
     ]
    },
    {
     "data": {
      "text/plain": [
       "[0, 'test', 2]"
      ]
     },
     "execution_count": 7,
     "metadata": {},
     "output_type": "execute_result"
    }
   ],
   "source": [
    "replacement_choice(game_list, 1)"
   ]
  },
  {
   "cell_type": "code",
   "execution_count": 8,
   "id": "fc892568",
   "metadata": {},
   "outputs": [],
   "source": [
    "def gameon_choice():\n",
    "    choice = 'wrong'\n",
    "    \n",
    "    while choice not in ['Y','N']:\n",
    "        choice = input('Keep playing? (Y or N) ')\n",
    "        \n",
    "        if choice not in ['Y','N']:\n",
    "            print('Sorry, I do not understand, please choose Y or N!')\n",
    "            \n",
    "    if choice == 'Y':\n",
    "        return True\n",
    "    else:\n",
    "        return False"
   ]
  },
  {
   "cell_type": "code",
   "execution_count": 9,
   "id": "80f19adc",
   "metadata": {},
   "outputs": [
    {
     "name": "stdout",
     "output_type": "stream",
     "text": [
      "Keep playing? (Y or N) wrong\n",
      "Sorry, I do not understand, please choose Y or N!\n",
      "Keep playing? (Y or N) Y\n"
     ]
    },
    {
     "data": {
      "text/plain": [
       "True"
      ]
     },
     "execution_count": 9,
     "metadata": {},
     "output_type": "execute_result"
    }
   ],
   "source": [
    "gameon_choice()"
   ]
  },
  {
   "cell_type": "code",
   "execution_count": 10,
   "id": "c346ce20",
   "metadata": {},
   "outputs": [
    {
     "name": "stdout",
     "output_type": "stream",
     "text": [
      "Here is the current list: \n",
      "[0, 1, 2]\n",
      "Pick a position (0,1,2): two\n",
      "Sorry, invalid choice!\n",
      "Pick a position (0,1,2): 1\n",
      "Type a string to place at position: my choice\n",
      "Here is the current list: \n",
      "[0, 'my choice', 2]\n",
      "Keep playing? (Y or N) Y\n",
      "Here is the current list: \n",
      "[0, 'my choice', 2]\n",
      "Pick a position (0,1,2): 0\n",
      "Type a string to place at position: test\n",
      "Here is the current list: \n",
      "['test', 'my choice', 2]\n",
      "Keep playing? (Y or N) N\n"
     ]
    }
   ],
   "source": [
    "game_on = True\n",
    "game_list = [0,1,2]\n",
    "\n",
    "while game_on:\n",
    "    display_game(game_list)\n",
    "    position = position_choice()\n",
    "    game_list = replacement_choice(game_list, position)\n",
    "    display_game(game_list)\n",
    "    game_on = gameon_choice()"
   ]
  },
  {
   "cell_type": "markdown",
   "id": "8bc36d7e",
   "metadata": {},
   "source": [
    "## First Python Milestone Project"
   ]
  },
  {
   "cell_type": "code",
   "execution_count": 21,
   "id": "4d9de66f",
   "metadata": {},
   "outputs": [],
   "source": [
    "from IPython.display import clear_output\n",
    "\n",
    "def display_board(board):\n",
    "    clear_output()\n",
    "    print(board[7] + '|' + board[8] + '|' + board[9])\n",
    "    print('-----')\n",
    "    print(board[4] + '|' + board[5] + '|' + board[6])\n",
    "    print('-----')\n",
    "    print(board[1] + '|' + board[2] + '|' + board[3])"
   ]
  },
  {
   "cell_type": "code",
   "execution_count": 22,
   "id": "9c019ee8",
   "metadata": {},
   "outputs": [
    {
     "name": "stdout",
     "output_type": "stream",
     "text": [
      " | | \n",
      "-----\n",
      " | | \n",
      " | | \n"
     ]
    }
   ],
   "source": [
    "test_board = [' '] * 10\n",
    "display_board(test_board)"
   ]
  },
  {
   "cell_type": "code",
   "execution_count": null,
   "id": "11195fce",
   "metadata": {},
   "outputs": [],
   "source": []
  }
 ],
 "metadata": {
  "kernelspec": {
   "display_name": "Python 3",
   "language": "python",
   "name": "python3"
  },
  "language_info": {
   "codemirror_mode": {
    "name": "ipython",
    "version": 3
   },
   "file_extension": ".py",
   "mimetype": "text/x-python",
   "name": "python",
   "nbconvert_exporter": "python",
   "pygments_lexer": "ipython3",
   "version": "3.8.8"
  }
 },
 "nbformat": 4,
 "nbformat_minor": 5
}
