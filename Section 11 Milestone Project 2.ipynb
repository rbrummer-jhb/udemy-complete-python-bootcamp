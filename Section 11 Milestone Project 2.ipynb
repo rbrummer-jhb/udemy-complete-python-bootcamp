{
 "cells": [
  {
   "cell_type": "code",
   "execution_count": 3,
   "id": "2f303139",
   "metadata": {},
   "outputs": [],
   "source": [
    "import random\n",
    "\n",
    "suits = ('Hearts', 'Diamonds', 'Spades', 'Clubs')\n",
    "ranks = (\n",
    "    'Two', 'Three', 'Four', \n",
    "    'Five', 'Six', 'Seven', \n",
    "    'Eight', 'Nine', 'Ten', \n",
    "    'Jack', 'Queen', 'King'\n",
    ")\n",
    "values = {\n",
    "    'Two':2, 'Three':3, 'Four':4, \n",
    "      'Five':5, 'Six':6, 'Seven':7, \n",
    "      'Eight':8, 'Nine':9, 'Ten':10, \n",
    "      'Jack':10, 'Queen':10, 'King':10, \n",
    "      'Ace':11\n",
    "}\n",
    "\n",
    "playing = True"
   ]
  },
  {
   "cell_type": "code",
   "execution_count": 4,
   "id": "5e33bc92",
   "metadata": {},
   "outputs": [],
   "source": [
    "class Card():\n",
    "    \n",
    "    def __init__(self, suit, rank):\n",
    "        self.suit = suit\n",
    "        self.rank = rank\n",
    "        \n",
    "    def __str__(self):\n",
    "        return self.rank + \" of \" + self.suit"
   ]
  },
  {
   "cell_type": "code",
   "execution_count": 5,
   "id": "f9044e03",
   "metadata": {},
   "outputs": [],
   "source": [
    "class Deck():\n",
    "    \n",
    "    def __init__(self):\n",
    "        self.deck = []; # start with an empty list\n",
    "        for suit in suits:\n",
    "            for rank in ranks:\n",
    "                self.deck.append(Card(suit, rank))\n",
    "                \n",
    "    def __str__(self):\n",
    "        deck_comp = ''\n",
    "        for card in self.deck:\n",
    "            deck_comp += '\\n' + card.__str__()\n",
    "        return 'The deck has: ' + deck_comp\n",
    "        \n",
    "    def shuffle(self):\n",
    "        random.shuffle(self.deck)\n",
    "        \n",
    "    def deal(self):\n",
    "        single_card = self.deck.pop()\n",
    "        return single_card"
   ]
  },
  {
   "cell_type": "code",
   "execution_count": 6,
   "id": "3c6eec5e",
   "metadata": {},
   "outputs": [],
   "source": [
    "test_deck = Deck()\n",
    "test_deck.shuffle()\n",
    "# print(test_deck)"
   ]
  },
  {
   "cell_type": "code",
   "execution_count": 7,
   "id": "90b8bac0",
   "metadata": {},
   "outputs": [],
   "source": [
    "class Hand():\n",
    "    \n",
    "    def __init__(self):\n",
    "        self.cards = [] # start with an empty list as we did in the Deck class\n",
    "        self.value = 0 # start with zero value\n",
    "        self.aces = 0 # add an attribute to keep track of aces\n",
    "        \n",
    "    def add_card(self, card):\n",
    "        # card passed in from Deck.deal() --> single Card(suit, rank)\n",
    "        self.cards.append(card)\n",
    "        self.value += values[card.rank]\n",
    "        \n",
    "        # track aces\n",
    "        if card.rank == 'Ace':\n",
    "            self.aces += 1\n",
    "        \n",
    "    def adjust_for_ace(self):\n",
    "        # IF TOTAL VALUE > 21 AND I STILL HAVE AN ACE\n",
    "        # THEN CHANGE MY ACE TO BE A 1 INSTEAD OF AN 11\n",
    "        while self.value > 21 and self.aces:\n",
    "            self.value -= 10\n",
    "            self.aces -= 1"
   ]
  },
  {
   "cell_type": "code",
   "execution_count": 8,
   "id": "4f30765a",
   "metadata": {},
   "outputs": [
    {
     "name": "stdout",
     "output_type": "stream",
     "text": [
      "TRUE\n"
     ]
    }
   ],
   "source": [
    "# TRUTHY AND FALSEY VALUES\n",
    "zero = 0\n",
    "one = 1\n",
    "two = 2\n",
    "\n",
    "if one:\n",
    "    print('TRUE')\n",
    "else:\n",
    "    print('FALSE')"
   ]
  },
  {
   "cell_type": "code",
   "execution_count": 9,
   "id": "fbd7ae5b",
   "metadata": {},
   "outputs": [
    {
     "name": "stdout",
     "output_type": "stream",
     "text": [
      "Eight of Hearts\n",
      "8\n"
     ]
    }
   ],
   "source": [
    "test_deck = Deck()\n",
    "test_deck.shuffle()\n",
    "\n",
    "# PLAYER\n",
    "test_player = Hand()\n",
    "\n",
    "# Deal 1 card from the deck CARD(suit, rank)\n",
    "pulled_card = test_deck.deal()\n",
    "print(pulled_card)\n",
    "test_player.add_card(pulled_card)\n",
    "print(test_player.value)"
   ]
  },
  {
   "cell_type": "code",
   "execution_count": 10,
   "id": "2f80fda4",
   "metadata": {},
   "outputs": [],
   "source": [
    "test_player.add_card(test_deck.deal())"
   ]
  },
  {
   "cell_type": "code",
   "execution_count": 11,
   "id": "a965053d",
   "metadata": {},
   "outputs": [
    {
     "data": {
      "text/plain": [
       "18"
      ]
     },
     "execution_count": 11,
     "metadata": {},
     "output_type": "execute_result"
    }
   ],
   "source": [
    "test_player.value"
   ]
  },
  {
   "cell_type": "code",
   "execution_count": 31,
   "id": "1fa03558",
   "metadata": {},
   "outputs": [],
   "source": [
    "class Chips:\n",
    "    def __init__(self, total=100):\n",
    "        self.total = total # This can be set to a default value or supplied by a user input\n",
    "        self.bet = 0\n",
    "        \n",
    "    def win_bet(self):\n",
    "       self.total += self.bet\n",
    "    \n",
    "    def lose_bet(self):\n",
    "        self.total -= self.bet"
   ]
  },
  {
   "cell_type": "code",
   "execution_count": 32,
   "id": "a8b7a435",
   "metadata": {},
   "outputs": [],
   "source": [
    "def take_bet(chips):\n",
    "    while True:\n",
    "        try:\n",
    "            chips.bet = int(input('How many chips would you like to bet? '))\n",
    "        except:\n",
    "            print('Sorry, please provide an integer')\n",
    "        else:\n",
    "            if chips.bet > chips.total:\n",
    "                print('Sorry, you do not have enough chips! You have: {}'.format(chips.total))\n",
    "            else:\n",
    "                break"
   ]
  },
  {
   "cell_type": "code",
   "execution_count": 33,
   "id": "1d82c874",
   "metadata": {},
   "outputs": [],
   "source": [
    "def hit(deck, hand):\n",
    "    hand.add_card(deck.deal())\n",
    "    hand.adjust_for_ace()"
   ]
  },
  {
   "cell_type": "code",
   "execution_count": 34,
   "id": "2037582f",
   "metadata": {},
   "outputs": [],
   "source": [
    "def hit_or_stand(deck, hand):\n",
    "    global playing\n",
    "    \n",
    "    while True:\n",
    "        x = input('Hit or Stand? Enter h or s: ')\n",
    "        \n",
    "        if x[0].lower() == 'h':\n",
    "            hit(deck, hand)\n",
    "        elif x[0].lower() == 's':\n",
    "            print('Player stands. Dealer\\'s turn.')\n",
    "            playing = False\n",
    "        else:\n",
    "            print('Sorry, I did not understand that, please enter h or s only!')\n",
    "            continue\n",
    "        break"
   ]
  },
  {
   "cell_type": "code",
   "execution_count": 35,
   "id": "416ad7f8",
   "metadata": {},
   "outputs": [
    {
     "name": "stdout",
     "output_type": "stream",
     "text": [
      "1\n",
      "2\n",
      "3\n"
     ]
    }
   ],
   "source": [
    "items =[1,2,3]\n",
    "for card in items:\n",
    "    print(card)"
   ]
  },
  {
   "cell_type": "code",
   "execution_count": 36,
   "id": "02036f65",
   "metadata": {},
   "outputs": [
    {
     "name": "stdout",
     "output_type": "stream",
     "text": [
      "Items are: \n",
      "1\n",
      "2\n",
      "3\n"
     ]
    }
   ],
   "source": [
    "print('Items are: ', *items, sep='\\n')"
   ]
  },
  {
   "cell_type": "code",
   "execution_count": 37,
   "id": "56ebc289",
   "metadata": {},
   "outputs": [],
   "source": [
    "def show_sum(player, dealer):\n",
    "    # Show only ONE of the dealer's hand/cards\n",
    "    print('\\n Dealer\\'s Hand: ')\n",
    "    print('First card hidden!')\n",
    "    print(dealer.cards[1])\n",
    "    # Show all (2 cards) of the player's hand/cards\n",
    "    print('\\n Player\\'s Hand: ')\n",
    "    for card in player.cards:\n",
    "        print(card)\n",
    "    \n",
    "def show_all(player, dealer):\n",
    "    # Show all the dealer's cards\n",
    "    print('\\n Dealer\\'s Hand: ')\n",
    "    for card in dealer.cards:\n",
    "          print(card)\n",
    "    print('\\n Dealer\\'s Hand: ', *dealer.cards, sep='\\n')\n",
    "    # Calculate and display the value (J + K == 20)\n",
    "    print(f'Value of Dealer\\'s Hand is: {dealer.value}')\n",
    "    # Show all the player's cards\n",
    "    print('\\n Player\\'s Hand: ')\n",
    "    for card in player.cards:\n",
    "            print(card)\n",
    "    print(f'Value of Player\\'s Hand is: {player.value}')"
   ]
  },
  {
   "cell_type": "code",
   "execution_count": 38,
   "id": "1eb6d363",
   "metadata": {},
   "outputs": [],
   "source": [
    "def player_busts(player, dealer, chips):\n",
    "    print('BUST PLAYER!')\n",
    "    chips.lose_bet()\n",
    "\n",
    "def player_wins(player, dealer, chips):\n",
    "    print('PLAYER WINS!')\n",
    "    chips.win_bet()\n",
    "\n",
    "def dealer_busts(player, dealer, chips):\n",
    "    print('PLAYER WINS! DEALER BUSTED!')\n",
    "    chips.win_bet()\n",
    "\n",
    "def dealer_wins(player, dealer, chips):\n",
    "    print('DEALER WINS!')\n",
    "    chips.lose_bet()\n",
    "\n",
    "def push(player, dealer):\n",
    "    print('Dealer and player tie! PUSH')"
   ]
  },
  {
   "cell_type": "code",
   "execution_count": 39,
   "id": "b15b2a64",
   "metadata": {},
   "outputs": [
    {
     "name": "stdout",
     "output_type": "stream",
     "text": [
      "WELCOME TO BLACKJACK\n",
      "How many chips would you like to bet? 50\n"
     ]
    },
    {
     "ename": "NameError",
     "evalue": "name 'show_some' is not defined",
     "output_type": "error",
     "traceback": [
      "\u001b[1;31m---------------------------------------------------------------------------\u001b[0m",
      "\u001b[1;31mNameError\u001b[0m                                 Traceback (most recent call last)",
      "\u001b[1;32m<ipython-input-39-663ea368e9aa>\u001b[0m in \u001b[0;36m<module>\u001b[1;34m\u001b[0m\n\u001b[0;32m     22\u001b[0m \u001b[1;33m\u001b[0m\u001b[0m\n\u001b[0;32m     23\u001b[0m     \u001b[1;31m# Show cards (but keep one dealer card hidden)\u001b[0m\u001b[1;33m\u001b[0m\u001b[1;33m\u001b[0m\u001b[1;33m\u001b[0m\u001b[0m\n\u001b[1;32m---> 24\u001b[1;33m     \u001b[0mshow_some\u001b[0m\u001b[1;33m(\u001b[0m\u001b[0mplayer_hand\u001b[0m\u001b[1;33m,\u001b[0m \u001b[0mdealer_hand\u001b[0m\u001b[1;33m)\u001b[0m\u001b[1;33m\u001b[0m\u001b[1;33m\u001b[0m\u001b[0m\n\u001b[0m\u001b[0;32m     25\u001b[0m \u001b[1;33m\u001b[0m\u001b[0m\n\u001b[0;32m     26\u001b[0m     \u001b[1;32mwhile\u001b[0m \u001b[0mplaying\u001b[0m\u001b[1;33m:\u001b[0m \u001b[1;31m# recall this variable from our hit_or_stand function\u001b[0m\u001b[1;33m\u001b[0m\u001b[1;33m\u001b[0m\u001b[0m\n",
      "\u001b[1;31mNameError\u001b[0m: name 'show_some' is not defined"
     ]
    }
   ],
   "source": [
    "while True:\n",
    "    # Print an opening statement\n",
    "    print(\"WELCOME TO BLACKJACK\")\n",
    "    \n",
    "    # Create & shuffle the deck, deal two cards to each player\n",
    "    deck = Deck()\n",
    "    deck.shuffle()\n",
    "    \n",
    "    player_hand = Hand()\n",
    "    player_hand.add_card(deck.deal())\n",
    "    player_hand.add_card(deck.deal())\n",
    "    \n",
    "    dealer_hand = Hand()\n",
    "    dealer_hand.add_card(deck.deal())\n",
    "    dealer_hand.add_card(deck.deal())\n",
    "    \n",
    "    # Set up Player's chips\n",
    "    player_chips = Chips()\n",
    "    \n",
    "    # Prompt the Player for their bet\n",
    "    take_bet(player_chips)\n",
    "    \n",
    "    # Show cards (but keep one dealer card hidden)\n",
    "    show_some(player_hand, dealer_hand)\n",
    "    \n",
    "    while playing: # recall this variable from our hit_or_stand function\n",
    "        \n",
    "        hit_or_stand(deck, player_hand)\n",
    "        \n",
    "        show_some(player_hand, dealer_hand)\n",
    "        \n",
    "        if player_hand.value > 21:\n",
    "            player_busts(player_hand, dealer_hand, player_chips)\n",
    "            break\n",
    "            \n",
    "        if player_hand.value <= 21:\n",
    "            \n",
    "            while dealer_hand.value < 17:\n",
    "                hit(deck, dealer_hand)\n",
    "                \n",
    "            show_all(player_hand, dealer_hand)\n",
    "            \n",
    "            if dealer_hand > 21:\n",
    "                dealer_busts(player_hand, dealer_hand, player_chips)\n",
    "            elif dealer_hand.value > player_hand.value:\n",
    "                dealer_wins(player_hand, dealer_hand, player_chips)\n",
    "            elif dealer_hand.value < player_hand.value:\n",
    "                player_wins(player_hand, dealer_hand, player_chips)\n",
    "            else:\n",
    "                push(player_hand, dealer_hand)\n",
    "                \n",
    "        print('\\n Player total chips are at: {}'.format(player_chips.total))\n",
    "        \n",
    "        new_game = input('Would you like to play another hand? y/n')\n",
    "        \n",
    "        if new_game[0].lower() == 'y':\n",
    "            playing = True\n",
    "            continue\n",
    "        else:\n",
    "            print('Thank you for playing!')\n",
    "            break"
   ]
  },
  {
   "cell_type": "code",
   "execution_count": null,
   "id": "dc250736",
   "metadata": {},
   "outputs": [],
   "source": []
  }
 ],
 "metadata": {
  "kernelspec": {
   "display_name": "Python 3",
   "language": "python",
   "name": "python3"
  },
  "language_info": {
   "codemirror_mode": {
    "name": "ipython",
    "version": 3
   },
   "file_extension": ".py",
   "mimetype": "text/x-python",
   "name": "python",
   "nbconvert_exporter": "python",
   "pygments_lexer": "ipython3",
   "version": "3.8.8"
  }
 },
 "nbformat": 4,
 "nbformat_minor": 5
}
