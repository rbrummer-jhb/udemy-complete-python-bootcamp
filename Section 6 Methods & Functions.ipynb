{
 "cells": [
  {
   "cell_type": "code",
   "execution_count": 1,
   "id": "d483597c",
   "metadata": {},
   "outputs": [
    {
     "data": {
      "text/plain": [
       "4"
      ]
     },
     "execution_count": 1,
     "metadata": {},
     "output_type": "execute_result"
    }
   ],
   "source": [
    "mylist = [1,2,3,4]\n",
    "mylist.pop()"
   ]
  },
  {
   "cell_type": "code",
   "execution_count": 2,
   "id": "cbf6e94b",
   "metadata": {},
   "outputs": [
    {
     "data": {
      "text/plain": [
       "[1, 2, 3]"
      ]
     },
     "execution_count": 2,
     "metadata": {},
     "output_type": "execute_result"
    }
   ],
   "source": [
    "mylist"
   ]
  },
  {
   "cell_type": "code",
   "execution_count": 3,
   "id": "e126f90a",
   "metadata": {},
   "outputs": [
    {
     "name": "stdout",
     "output_type": "stream",
     "text": [
      "Help on built-in function insert:\n",
      "\n",
      "insert(index, object, /) method of builtins.list instance\n",
      "    Insert object before index.\n",
      "\n"
     ]
    }
   ],
   "source": [
    "help(mylist.insert)"
   ]
  },
  {
   "cell_type": "markdown",
   "id": "2d1ef5cf",
   "metadata": {},
   "source": [
    "## The `def` Keyword\n",
    "```python\n",
    "def name_of_function():\n",
    "    '''\n",
    "    Docstring explains the function\n",
    "    '''\n",
    "    print(\"Hello\")\n",
    "    \n",
    "name_of_function()\n",
    "```\n",
    "```sh\n",
    ">>> Hello\n",
    "```"
   ]
  },
  {
   "cell_type": "markdown",
   "id": "3a77f519",
   "metadata": {},
   "source": [
    "```python\n",
    "def name_of_function(name):\n",
    "    '''\n",
    "    Docstring explains the function\n",
    "    '''\n",
    "    print(\"Hello\" + name)\n",
    "    \n",
    "name_of_function()\n",
    "```\n",
    "```sh\n",
    ">>> Hello\n",
    "```"
   ]
  },
  {
   "cell_type": "markdown",
   "id": "b8a0b744",
   "metadata": {},
   "source": [
    "```python\n",
    "def add_function(num1, num2)\n",
    "    return num1 + num2\n",
    "\n",
    "result = add_function(1, 2)\n",
    "print(result)\n",
    "```\n",
    "```sh\n",
    ">>> 3\n",
    "```"
   ]
  },
  {
   "cell_type": "code",
   "execution_count": 4,
   "id": "05e993f4",
   "metadata": {},
   "outputs": [],
   "source": [
    "def say_hello():\n",
    "    print('hello')"
   ]
  },
  {
   "cell_type": "code",
   "execution_count": 5,
   "id": "b30797eb",
   "metadata": {},
   "outputs": [
    {
     "name": "stdout",
     "output_type": "stream",
     "text": [
      "hello\n"
     ]
    }
   ],
   "source": [
    "say_hello()"
   ]
  },
  {
   "cell_type": "code",
   "execution_count": 9,
   "id": "ef8c1aae",
   "metadata": {},
   "outputs": [],
   "source": [
    "def say_hello(name='Default'):\n",
    "    print(f'Hello {name}')"
   ]
  },
  {
   "cell_type": "code",
   "execution_count": 8,
   "id": "0d4ff9aa",
   "metadata": {},
   "outputs": [
    {
     "name": "stdout",
     "output_type": "stream",
     "text": [
      "Hello Sunshine\n"
     ]
    }
   ],
   "source": [
    "say_hello('Sunshine')"
   ]
  },
  {
   "cell_type": "code",
   "execution_count": 10,
   "id": "b4d5ff72",
   "metadata": {},
   "outputs": [
    {
     "name": "stdout",
     "output_type": "stream",
     "text": [
      "Hello Default\n"
     ]
    }
   ],
   "source": [
    "say_hello()"
   ]
  },
  {
   "cell_type": "code",
   "execution_count": 11,
   "id": "45b7072b",
   "metadata": {},
   "outputs": [],
   "source": [
    "def add_num(num1, num2):\n",
    "    return num1 + num2"
   ]
  },
  {
   "cell_type": "code",
   "execution_count": 12,
   "id": "28908b18",
   "metadata": {},
   "outputs": [
    {
     "name": "stdout",
     "output_type": "stream",
     "text": [
      "30\n"
     ]
    }
   ],
   "source": [
    "result = add_num(10, 20)\n",
    "print(result)"
   ]
  },
  {
   "cell_type": "code",
   "execution_count": 13,
   "id": "6c7d2137",
   "metadata": {},
   "outputs": [],
   "source": [
    "def print_result(a, b):\n",
    "    print(a + b)"
   ]
  },
  {
   "cell_type": "code",
   "execution_count": 14,
   "id": "4bba8a84",
   "metadata": {},
   "outputs": [],
   "source": [
    "def return_result(a, b):\n",
    "    return a + b"
   ]
  },
  {
   "cell_type": "code",
   "execution_count": 16,
   "id": "bcfc4821",
   "metadata": {},
   "outputs": [
    {
     "name": "stdout",
     "output_type": "stream",
     "text": [
      "30\n"
     ]
    }
   ],
   "source": [
    "result = print_result(10, 20)"
   ]
  },
  {
   "cell_type": "code",
   "execution_count": 17,
   "id": "6efffee8",
   "metadata": {},
   "outputs": [
    {
     "name": "stdout",
     "output_type": "stream",
     "text": [
      "None\n"
     ]
    }
   ],
   "source": [
    "print(result)"
   ]
  },
  {
   "cell_type": "code",
   "execution_count": 18,
   "id": "36a82625",
   "metadata": {},
   "outputs": [
    {
     "data": {
      "text/plain": [
       "NoneType"
      ]
     },
     "execution_count": 18,
     "metadata": {},
     "output_type": "execute_result"
    }
   ],
   "source": [
    "type(result)"
   ]
  },
  {
   "cell_type": "code",
   "execution_count": 19,
   "id": "e7d3b079",
   "metadata": {},
   "outputs": [],
   "source": [
    "result = return_result(10, 20)"
   ]
  },
  {
   "cell_type": "code",
   "execution_count": 20,
   "id": "3b2b1846",
   "metadata": {},
   "outputs": [
    {
     "name": "stdout",
     "output_type": "stream",
     "text": [
      "30\n"
     ]
    }
   ],
   "source": [
    "print(result)"
   ]
  },
  {
   "cell_type": "code",
   "execution_count": 21,
   "id": "6c0de0ac",
   "metadata": {},
   "outputs": [
    {
     "data": {
      "text/plain": [
       "int"
      ]
     },
     "execution_count": 21,
     "metadata": {},
     "output_type": "execute_result"
    }
   ],
   "source": [
    "type(result)"
   ]
  },
  {
   "cell_type": "code",
   "execution_count": 24,
   "id": "b9314111",
   "metadata": {},
   "outputs": [],
   "source": [
    "def myfunc(a, b):\n",
    "    print(a + b)\n",
    "    return(a + b)"
   ]
  },
  {
   "cell_type": "code",
   "execution_count": 23,
   "id": "db71f4f1",
   "metadata": {},
   "outputs": [
    {
     "name": "stdout",
     "output_type": "stream",
     "text": [
      "30\n"
     ]
    }
   ],
   "source": [
    "result = myfunc(10, 20)"
   ]
  },
  {
   "cell_type": "code",
   "execution_count": 25,
   "id": "ae09d312",
   "metadata": {},
   "outputs": [],
   "source": [
    "def sum_numbers(num1, num2):\n",
    "    return num1 + num2"
   ]
  },
  {
   "cell_type": "code",
   "execution_count": 26,
   "id": "feffafcf",
   "metadata": {},
   "outputs": [
    {
     "data": {
      "text/plain": [
       "30"
      ]
     },
     "execution_count": 26,
     "metadata": {},
     "output_type": "execute_result"
    }
   ],
   "source": [
    "sum_numbers(10, 20)"
   ]
  },
  {
   "cell_type": "code",
   "execution_count": 27,
   "id": "37c1a7d0",
   "metadata": {},
   "outputs": [
    {
     "data": {
      "text/plain": [
       "'1020'"
      ]
     },
     "execution_count": 27,
     "metadata": {},
     "output_type": "execute_result"
    }
   ],
   "source": [
    "sum_numbers('10', '20')"
   ]
  },
  {
   "cell_type": "markdown",
   "id": "a412f59c",
   "metadata": {},
   "source": [
    "## Logic with Python Functions"
   ]
  },
  {
   "cell_type": "code",
   "execution_count": 3,
   "id": "549c498e",
   "metadata": {},
   "outputs": [
    {
     "data": {
      "text/plain": [
       "True"
      ]
     },
     "execution_count": 3,
     "metadata": {},
     "output_type": "execute_result"
    }
   ],
   "source": [
    "def even_check(number):\n",
    "    result = number % 2 == 0\n",
    "    return result\n",
    "\n",
    "# OR\n",
    "\n",
    "def even_check(number):\n",
    "    return number % 2 == 0\n",
    "\n",
    "even_check(20)"
   ]
  },
  {
   "cell_type": "code",
   "execution_count": 2,
   "id": "91f6d265",
   "metadata": {},
   "outputs": [
    {
     "data": {
      "text/plain": [
       "False"
      ]
     },
     "execution_count": 2,
     "metadata": {},
     "output_type": "execute_result"
    }
   ],
   "source": [
    "even_check(21)"
   ]
  },
  {
   "cell_type": "code",
   "execution_count": 4,
   "id": "573f36fa",
   "metadata": {},
   "outputs": [],
   "source": [
    "# RETURN TRUE IF ANY NUMBER IS EVEN INSIDE A LIST"
   ]
  },
  {
   "cell_type": "code",
   "execution_count": 16,
   "id": "5616ec57",
   "metadata": {},
   "outputs": [],
   "source": [
    "def check_even_list(num_list):\n",
    "    # return all the even numbers in the list\n",
    "    # placeholder variables\n",
    "    even_numbers = []\n",
    "    \n",
    "    # [1,2,3,4]\n",
    "    for number in num_list:\n",
    "        if number % 2 == 0:\n",
    "            even_numbers.append(number)\n",
    "        else:\n",
    "            pass\n",
    "    return even_numbers"
   ]
  },
  {
   "cell_type": "code",
   "execution_count": 17,
   "id": "1a39ebcd",
   "metadata": {},
   "outputs": [
    {
     "data": {
      "text/plain": [
       "[]"
      ]
     },
     "execution_count": 17,
     "metadata": {},
     "output_type": "execute_result"
    }
   ],
   "source": [
    "check_even_list([1,3,5,7,9])"
   ]
  },
  {
   "cell_type": "code",
   "execution_count": 18,
   "id": "0f26874a",
   "metadata": {},
   "outputs": [
    {
     "data": {
      "text/plain": [
       "[2, 4]"
      ]
     },
     "execution_count": 18,
     "metadata": {},
     "output_type": "execute_result"
    }
   ],
   "source": [
    "check_even_list([2,4,5])"
   ]
  },
  {
   "cell_type": "code",
   "execution_count": 25,
   "id": "bb4a0fa9",
   "metadata": {},
   "outputs": [
    {
     "data": {
      "text/plain": [
       "[2]"
      ]
     },
     "execution_count": 25,
     "metadata": {},
     "output_type": "execute_result"
    }
   ],
   "source": [
    "check_even_list([1,1,1,2])"
   ]
  },
  {
   "cell_type": "markdown",
   "id": "23f272a9",
   "metadata": {},
   "source": [
    "## Tuple Unpacking with Python Functions"
   ]
  },
  {
   "cell_type": "code",
   "execution_count": 29,
   "id": "92f129ff",
   "metadata": {},
   "outputs": [],
   "source": [
    "stock_prices = [('APPLE',200), ('GOOGLE',400), ('MICROSOFT', 100)]"
   ]
  },
  {
   "cell_type": "code",
   "execution_count": 31,
   "id": "9280f22d",
   "metadata": {},
   "outputs": [
    {
     "name": "stdout",
     "output_type": "stream",
     "text": [
      "220.0\n",
      "440.0\n",
      "110.0\n"
     ]
    }
   ],
   "source": [
    "for ticker, price in stock_prices:\n",
    "    print(price+ (0.1 * price))"
   ]
  },
  {
   "cell_type": "code",
   "execution_count": 35,
   "id": "ad36644a",
   "metadata": {},
   "outputs": [],
   "source": [
    "work_hours = [('Abby',100), ('Billy',4000), ('Cassie',800)]"
   ]
  },
  {
   "cell_type": "code",
   "execution_count": 36,
   "id": "7e44ab77",
   "metadata": {},
   "outputs": [],
   "source": [
    "def employee_check(work_hours):\n",
    "    current_max = 0\n",
    "    employee_of_the_month = ''\n",
    "    \n",
    "    for employee, hours in work_hours:\n",
    "        if hours > current_max:\n",
    "            current_max = hours\n",
    "            employee_of_the_month = employee\n",
    "        else:\n",
    "            pass\n",
    "    \n",
    "    # Return\n",
    "    return (employee_of_the_month, current_max)"
   ]
  },
  {
   "cell_type": "code",
   "execution_count": 38,
   "id": "c4e7c51c",
   "metadata": {},
   "outputs": [],
   "source": [
    "result = employee_check(work_hours)"
   ]
  },
  {
   "cell_type": "code",
   "execution_count": 39,
   "id": "410f85cd",
   "metadata": {},
   "outputs": [
    {
     "name": "stdout",
     "output_type": "stream",
     "text": [
      "('Billy', 4000)\n"
     ]
    }
   ],
   "source": [
    "print(result)"
   ]
  },
  {
   "cell_type": "code",
   "execution_count": 40,
   "id": "d8ce9c8b",
   "metadata": {},
   "outputs": [],
   "source": [
    "name, hours = employee_check(work_hours)"
   ]
  },
  {
   "cell_type": "code",
   "execution_count": 41,
   "id": "47a2e432",
   "metadata": {},
   "outputs": [
    {
     "name": "stdout",
     "output_type": "stream",
     "text": [
      "Billy\n"
     ]
    }
   ],
   "source": [
    "print(name)"
   ]
  },
  {
   "cell_type": "code",
   "execution_count": 42,
   "id": "039d63ac",
   "metadata": {},
   "outputs": [
    {
     "name": "stdout",
     "output_type": "stream",
     "text": [
      "4000\n"
     ]
    }
   ],
   "source": [
    "print(hours)"
   ]
  },
  {
   "cell_type": "markdown",
   "id": "922f48ff",
   "metadata": {},
   "source": [
    "## Interactions between Python Functions"
   ]
  },
  {
   "cell_type": "code",
   "execution_count": 43,
   "id": "274e0ff2",
   "metadata": {},
   "outputs": [],
   "source": [
    "example = [1,2,3,4,5,6,7]"
   ]
  },
  {
   "cell_type": "code",
   "execution_count": 44,
   "id": "61687a9f",
   "metadata": {},
   "outputs": [],
   "source": [
    "from random import shuffle"
   ]
  },
  {
   "cell_type": "code",
   "execution_count": 46,
   "id": "8f134331",
   "metadata": {},
   "outputs": [
    {
     "name": "stdout",
     "output_type": "stream",
     "text": [
      "[1, 3, 4, 5, 7, 2, 6]\n"
     ]
    }
   ],
   "source": [
    "shuffle(example)\n",
    "print(example)"
   ]
  },
  {
   "cell_type": "code",
   "execution_count": 47,
   "id": "e07290f6",
   "metadata": {},
   "outputs": [],
   "source": [
    "def shuffle_list(my_list):\n",
    "    shuffle(my_list)\n",
    "    return my_list"
   ]
  },
  {
   "cell_type": "code",
   "execution_count": 48,
   "id": "8cdc644d",
   "metadata": {},
   "outputs": [
    {
     "name": "stdout",
     "output_type": "stream",
     "text": [
      "[7, 2, 6, 4, 1, 5, 3]\n"
     ]
    }
   ],
   "source": [
    "result = shuffle_list(example)\n",
    "print(result)"
   ]
  },
  {
   "cell_type": "code",
   "execution_count": 50,
   "id": "52b3b52f",
   "metadata": {},
   "outputs": [],
   "source": [
    "mylist = [' ', 'O', ' ']"
   ]
  },
  {
   "cell_type": "code",
   "execution_count": 51,
   "id": "597a1e6c",
   "metadata": {},
   "outputs": [
    {
     "data": {
      "text/plain": [
       "['O', ' ', ' ']"
      ]
     },
     "execution_count": 51,
     "metadata": {},
     "output_type": "execute_result"
    }
   ],
   "source": [
    "shuffle_list(mylist)"
   ]
  },
  {
   "cell_type": "code",
   "execution_count": 56,
   "id": "d77cb608",
   "metadata": {},
   "outputs": [],
   "source": [
    "def player_guess():\n",
    "    guess = ''\n",
    "    while guess not in ['0', '1', '2']:\n",
    "        guess = input('Pick a number 0, 1, or 2 ')\n",
    "    return int(guess)"
   ]
  },
  {
   "cell_type": "code",
   "execution_count": 53,
   "id": "f6a7bd0d",
   "metadata": {},
   "outputs": [
    {
     "name": "stdout",
     "output_type": "stream",
     "text": [
      "Pick a number 0, 1, or 21\n"
     ]
    },
    {
     "data": {
      "text/plain": [
       "1"
      ]
     },
     "execution_count": 53,
     "metadata": {},
     "output_type": "execute_result"
    }
   ],
   "source": [
    "player_guess()"
   ]
  },
  {
   "cell_type": "code",
   "execution_count": 54,
   "id": "29becd93",
   "metadata": {},
   "outputs": [
    {
     "name": "stdout",
     "output_type": "stream",
     "text": [
      "Pick a number 0, 1, or 22\n"
     ]
    }
   ],
   "source": [
    "myindex = player_guess()"
   ]
  },
  {
   "cell_type": "code",
   "execution_count": 55,
   "id": "4b664b6d",
   "metadata": {},
   "outputs": [
    {
     "name": "stdout",
     "output_type": "stream",
     "text": [
      "2\n"
     ]
    }
   ],
   "source": [
    "print(myindex)"
   ]
  },
  {
   "cell_type": "code",
   "execution_count": 57,
   "id": "67ea8e62",
   "metadata": {},
   "outputs": [],
   "source": [
    "def check_guess(mylist, guess):\n",
    "    if mylist[guess] == 'O':\n",
    "        print('Correct!')\n",
    "    else:\n",
    "        print('Wrong guess!')\n",
    "        print(mylist)"
   ]
  },
  {
   "cell_type": "code",
   "execution_count": 64,
   "id": "24791d92",
   "metadata": {},
   "outputs": [
    {
     "name": "stdout",
     "output_type": "stream",
     "text": [
      "Pick a number 0, 1, or 2 0\n",
      "Correct!\n"
     ]
    }
   ],
   "source": [
    "# INITIAL LIST\n",
    "mylist = [' ', 'O', ' ']\n",
    "\n",
    "# SHUFFLE LIST\n",
    "mixed_up_list = shuffle_list(mylist)\n",
    "\n",
    "# USER GUESS\n",
    "guess = player_guess()\n",
    "\n",
    "# CHECK GUESS\n",
    "check_guess(mixed_up_list, guess)"
   ]
  },
  {
   "cell_type": "markdown",
   "id": "15f87ef0",
   "metadata": {},
   "source": [
    "## Arguments & Keyword Arguments \\*args & \\**kwargs"
   ]
  },
  {
   "cell_type": "code",
   "execution_count": 1,
   "id": "7c30d725",
   "metadata": {},
   "outputs": [],
   "source": [
    "def myfunc(a, b):\n",
    "    # Return 5% of the sum of a and b\n",
    "    return sum((a, b)) * 0.05"
   ]
  },
  {
   "cell_type": "code",
   "execution_count": 2,
   "id": "71bf1b74",
   "metadata": {},
   "outputs": [
    {
     "data": {
      "text/plain": [
       "5.0"
      ]
     },
     "execution_count": 2,
     "metadata": {},
     "output_type": "execute_result"
    }
   ],
   "source": [
    "myfunc(40,60)"
   ]
  },
  {
   "cell_type": "code",
   "execution_count": 3,
   "id": "eaf174fa",
   "metadata": {},
   "outputs": [],
   "source": [
    "def myfunc(a, b, c=0):\n",
    "    return sum((a, b, c)) * 0.05"
   ]
  },
  {
   "cell_type": "code",
   "execution_count": 4,
   "id": "e9acdf3b",
   "metadata": {},
   "outputs": [
    {
     "data": {
      "text/plain": [
       "10.0"
      ]
     },
     "execution_count": 4,
     "metadata": {},
     "output_type": "execute_result"
    }
   ],
   "source": [
    "myfunc(40, 60, 100)"
   ]
  },
  {
   "cell_type": "code",
   "execution_count": 11,
   "id": "4440a8e7",
   "metadata": {},
   "outputs": [],
   "source": [
    "# *args packs the parameters into a tuple\n",
    "def myfunc(*args):\n",
    "    return sum(args) * 0.05"
   ]
  },
  {
   "cell_type": "code",
   "execution_count": 9,
   "id": "917e065b",
   "metadata": {},
   "outputs": [
    {
     "data": {
      "text/plain": [
       "5.0"
      ]
     },
     "execution_count": 9,
     "metadata": {},
     "output_type": "execute_result"
    }
   ],
   "source": [
    "myfunc(40, 60)"
   ]
  },
  {
   "cell_type": "code",
   "execution_count": 10,
   "id": "9bed8c2d",
   "metadata": {},
   "outputs": [
    {
     "data": {
      "text/plain": [
       "11.75"
      ]
     },
     "execution_count": 10,
     "metadata": {},
     "output_type": "execute_result"
    }
   ],
   "source": [
    "myfunc(40, 60, 100, 1, 34)"
   ]
  },
  {
   "cell_type": "code",
   "execution_count": 12,
   "id": "81789255",
   "metadata": {},
   "outputs": [],
   "source": [
    "def myfunc(*args):\n",
    "    for item in args:\n",
    "        print(item)"
   ]
  },
  {
   "cell_type": "code",
   "execution_count": 13,
   "id": "8613d520",
   "metadata": {},
   "outputs": [
    {
     "name": "stdout",
     "output_type": "stream",
     "text": [
      "40\n",
      "60\n",
      "100\n",
      "1\n",
      "34\n"
     ]
    }
   ],
   "source": [
    "myfunc(40, 60, 100, 1, 34)"
   ]
  },
  {
   "cell_type": "code",
   "execution_count": 16,
   "id": "07bba624",
   "metadata": {},
   "outputs": [],
   "source": [
    "# **kwargs returns a dictionary\n",
    "def myfunc(**kwargs):\n",
    "    if 'fruit' in kwargs:\n",
    "        print('My fruit of choice is {}'.format(kwargs['fruit']))\n",
    "    else:\n",
    "        print('I did not find any fruit here')"
   ]
  },
  {
   "cell_type": "code",
   "execution_count": 17,
   "id": "c226fbb5",
   "metadata": {},
   "outputs": [
    {
     "name": "stdout",
     "output_type": "stream",
     "text": [
      "My fruit of choice is apple\n"
     ]
    }
   ],
   "source": [
    "myfunc(fruit='apple', veggie='lettuce')"
   ]
  },
  {
   "cell_type": "code",
   "execution_count": 21,
   "id": "68c4cab3",
   "metadata": {},
   "outputs": [],
   "source": [
    "def myfunc(*args, **kwargs):\n",
    "    print(args)\n",
    "    print(kwargs)\n",
    "    print('I would like {} {}'.format(args[0], kwargs['food']))"
   ]
  },
  {
   "cell_type": "code",
   "execution_count": 22,
   "id": "3aed97a3",
   "metadata": {},
   "outputs": [
    {
     "name": "stdout",
     "output_type": "stream",
     "text": [
      "(10, 20, 30)\n",
      "{'fruit': 'orange', 'food': 'eggs', 'animal': 'dog'}\n",
      "I would like 10 eggs\n"
     ]
    }
   ],
   "source": [
    "myfunc(10, 20, 30, fruit='orange', food='eggs', animal='dog')"
   ]
  },
  {
   "cell_type": "code",
   "execution_count": 28,
   "id": "46ae3069",
   "metadata": {},
   "outputs": [
    {
     "name": "stdout",
     "output_type": "stream",
     "text": [
      "7\n",
      "8\n",
      "9\n",
      "8\n",
      "8\n"
     ]
    }
   ],
   "source": [
    "# *args returns a tuple\n",
    "# **kwargs returns a dict\n",
    "\n",
    "def myfunc(*args):\n",
    "    for item in args:\n",
    "        print(item)\n",
    "    \n",
    "myfunc(7,8,9,8,8)"
   ]
  },
  {
   "cell_type": "code",
   "execution_count": 31,
   "id": "6a52855e",
   "metadata": {},
   "outputs": [],
   "source": [
    "def myfunc(*args):\n",
    "    even_numbers = []\n",
    "    for num in args:\n",
    "        if num % 2 == 0:\n",
    "            even_numbers.append(num)\n",
    "    return even_numbers"
   ]
  },
  {
   "cell_type": "code",
   "execution_count": 32,
   "id": "6f10cb43",
   "metadata": {},
   "outputs": [
    {
     "data": {
      "text/plain": [
       "[6, 8]"
      ]
     },
     "execution_count": 32,
     "metadata": {},
     "output_type": "execute_result"
    }
   ],
   "source": [
    "myfunc(5,6,7,8)"
   ]
  },
  {
   "cell_type": "code",
   "execution_count": 91,
   "id": "595fd7cd",
   "metadata": {},
   "outputs": [],
   "source": [
    "def myfunc(s):\n",
    "    new_str = ''\n",
    "    for letter in s:\n",
    "        if s.index(letter) % 2 != 0:\n",
    "            new_str += letter.upper()\n",
    "        if s.index(letter) % 2 == 0:\n",
    "            new_str += letter.lower()\n",
    "    return new_str\n",
    "        "
   ]
  },
  {
   "cell_type": "code",
   "execution_count": 92,
   "id": "bf0e5fc5",
   "metadata": {
    "scrolled": true
   },
   "outputs": [
    {
     "data": {
      "text/plain": [
       "'aNtHrOpOmOrpHIsm'"
      ]
     },
     "execution_count": 92,
     "metadata": {},
     "output_type": "execute_result"
    }
   ],
   "source": [
    "myfunc('Anthropomorphism')"
   ]
  },
  {
   "cell_type": "markdown",
   "id": "27a94d99",
   "metadata": {},
   "source": [
    "## Function Practice Exercises\n",
    "Problems are arranged in increasing difficulty:\n",
    "\n",
    "Warmup - these can be solved using basic comparisons and methods  \n",
    "Level 1 - these may involve if/then conditional statements and simple methods  \n",
    "Level 2 - these may require iterating over sequences, usually with some kind of loop  \n",
    "Challenging - these will take some creativity to solve  \n",
    "\n",
    "**WARMUP SECTION:**\n",
    "\n",
    "LESSER OF TWO EVENS:  \n",
    "Write a function that returns the lesser of two given numbers if both numbers are even, but returns the greater if one or both numbers are odd.\n",
    "\n",
    "lesser_of_two_evens(2,4) --> 2  \n",
    "lesser_of_two_evens(2,5) --> 5  "
   ]
  },
  {
   "cell_type": "code",
   "execution_count": 8,
   "id": "0ca9f689",
   "metadata": {},
   "outputs": [
    {
     "data": {
      "text/plain": [
       "5"
      ]
     },
     "execution_count": 8,
     "metadata": {},
     "output_type": "execute_result"
    }
   ],
   "source": [
    "# Our solution\n",
    "def lesser_of_two_evens(a, b):\n",
    "    if a % 2 == 0 and b % 2 == 0:\n",
    "        if a > b:\n",
    "            return b\n",
    "        else:\n",
    "            return a\n",
    "    if a % 2 != 0 or b % 2 != 0:\n",
    "        if a > b:\n",
    "            return a\n",
    "        else:\n",
    "            return b\n",
    "        \n",
    "# Lecture solution\n",
    "def lesser_of_two_evens1(a, b):\n",
    "    if a % 2 == 0 and b % 2 == 0:\n",
    "        # BOTH NUMBERS ARE EVEN\n",
    "        if a < b:\n",
    "            result = a\n",
    "        else:\n",
    "            result = b\n",
    "    else:\n",
    "        # ONE OR BOTH NUMBERS ARE ODD\n",
    "        if a > b:\n",
    "            result = a\n",
    "        else:\n",
    "            result = b\n",
    "    return result\n",
    "\n",
    "# Refactor\n",
    "def lesser_of_two_evens2(a, b):\n",
    "    if a % 2 == 0 and b % 2 == 0:\n",
    "        # BOTH NUMBERS ARE EVEN\n",
    "        return min(a,b)\n",
    "    else:\n",
    "        # ONE OR BOTH NUMBERS ARE ODD\n",
    "        return max(a,b)\n",
    "        \n",
    "lesser_of_two_evens(2,4)\n",
    "lesser_of_two_evens(2,5)"
   ]
  },
  {
   "cell_type": "markdown",
   "id": "5dc426f4",
   "metadata": {},
   "source": [
    "**ANIMAL CRACKERS:**  \n",
    "Write a function takes a two-word string and returns True if both words begin with same letter.\n",
    "\n",
    "animal_crackers('Levelheaded Llama') --> True  \n",
    "animal_crackers('Crazy Kangaroo') --> False"
   ]
  },
  {
   "cell_type": "code",
   "execution_count": 13,
   "id": "f0ea523f",
   "metadata": {},
   "outputs": [
    {
     "data": {
      "text/plain": [
       "True"
      ]
     },
     "execution_count": 13,
     "metadata": {},
     "output_type": "execute_result"
    }
   ],
   "source": [
    "# Lecture solution\n",
    "def animal_crackers(text):\n",
    "    wordlist = text.split()\n",
    "    first = wordlist[0]\n",
    "    second = wordlist[1]\n",
    "    return first[0] == second[0]\n",
    "\n",
    "# Refactor\n",
    "def animal_crackers1(text):\n",
    "    wordlist = text.lower().split()\n",
    "    return wordlist[0][0] == wordlist[0][0]\n",
    "\n",
    "animal_crackers('Levelheaded Llama')\n",
    "animal_crackers1('Crazy cat')"
   ]
  },
  {
   "cell_type": "markdown",
   "id": "daf678e1",
   "metadata": {},
   "source": [
    "MAKES TWENTY:  \n",
    "Given two integers, return True if the sum of the integers is 20 or if one of the integers is 20. If not, return False.\n",
    "\n",
    "makes_twenty(20,10) --> True  \n",
    "makes_twenty(12,8) --> True  \n",
    "makes_twenty(2,3) --> False"
   ]
  },
  {
   "cell_type": "code",
   "execution_count": 17,
   "id": "c7a0a4c5",
   "metadata": {},
   "outputs": [
    {
     "data": {
      "text/plain": [
       "False"
      ]
     },
     "execution_count": 17,
     "metadata": {},
     "output_type": "execute_result"
    }
   ],
   "source": [
    "# Our solution\n",
    "def makes_twenty(n1, n2):\n",
    "    if (n1 + n2) == 20 or n1 == 20 or n2 == 20:\n",
    "        return True\n",
    "    return False\n",
    "\n",
    "# Lecture Solution\n",
    "def makes_twenty1(n1, n2):\n",
    "    if n1 + n2 == 20:\n",
    "        return True\n",
    "    elif n1 == 20:\n",
    "        return True\n",
    "    elif n2 == 20:\n",
    "        return True\n",
    "    else:\n",
    "        return False\n",
    "\n",
    "# Refactor\n",
    "def makes_twenty2(n1, n2):\n",
    "    return (n1 + n2) == 20 or n1 == 20 or n2 == 20\n",
    "\n",
    "makes_twenty(20, 10)\n",
    "makes_twenty(12, 8)\n",
    "makes_twenty(2, 3)"
   ]
  },
  {
   "cell_type": "markdown",
   "id": "a6ca544a",
   "metadata": {},
   "source": [
    "LEVEL 1 PROBLEMS\n",
    "\n",
    "OLD MACDONALD:  \n",
    "Write a function that capitalizes the first and fourth letters of a name.\n",
    "\n",
    "old_macdonald('macdonald') --> MacDonald\n",
    "\n",
    "Note: 'macdonald'.capitalize() returns 'Macdonald'"
   ]
  },
  {
   "cell_type": "code",
   "execution_count": 27,
   "id": "fb1b528a",
   "metadata": {},
   "outputs": [
    {
     "data": {
      "text/plain": [
       "'MacDonald'"
      ]
     },
     "execution_count": 27,
     "metadata": {},
     "output_type": "execute_result"
    }
   ],
   "source": [
    "# Our solution\n",
    "def old_macdonald(name):\n",
    "    return name[0].upper() + name[1:3] + name[3].upper() + name[4:]\n",
    "\n",
    "# Lecture solution\n",
    "def old_macdonald1(name):\n",
    "    first_letter = name[0]\n",
    "    inbetween = name[1:3]\n",
    "    fourth_letter = name[3]\n",
    "    rest = name[4:]\n",
    "    \n",
    "    return first_letter.upper() + inbetween + fourth_letter.upper() + rest\n",
    "\n",
    "# Refactor\n",
    "def old_macdonald2(name):\n",
    "    first_half = name[:3]\n",
    "    second_half = name[3:]\n",
    "    \n",
    "    return first_half.capitalize() + second_half.capitalize()\n",
    "\n",
    "old_macdonald('macdonald')"
   ]
  },
  {
   "cell_type": "markdown",
   "id": "453d70b0",
   "metadata": {},
   "source": [
    "MASTER YODA:  \n",
    "Given a sentence, return a sentence with the words reversed.\n",
    "\n",
    "master_yoda('I am home') --> 'home am I'  \n",
    "master_yoda('We are ready') --> 'ready are We'\n",
    "\n",
    "Note:  \n",
    "The .join() method may be useful here.  \n",
    "The .join() method allows you to join together strings in a list with some connector string.  \n",
    "For example, some uses of the .join() method:\n",
    "\n",
    "\\>>> \"--\".join(['a','b','c'])  \n",
    "\\>>> 'a--b--c'\n",
    "\n",
    "This means if you had a list of words you wanted to turn back into a sentence,  \n",
    "you could just join them with a single space string:\n",
    "\n",
    "\\>>> \" \".join(['Hello','world'])  \n",
    "\\>>> \"Hello world\""
   ]
  },
  {
   "cell_type": "code",
   "execution_count": 41,
   "id": "c60d3e70",
   "metadata": {},
   "outputs": [
    {
     "data": {
      "text/plain": [
       "'home am I'"
      ]
     },
     "execution_count": 41,
     "metadata": {},
     "output_type": "execute_result"
    }
   ],
   "source": [
    "# Lecture solution\n",
    "def master_yoda(text):\n",
    "    wordlist = text.split()\n",
    "    reversed_word_list = wordlist[::-1]\n",
    "    return ' '.join(reversed_word_list)\n",
    "\n",
    "master_yoda('I am home')"
   ]
  },
  {
   "cell_type": "markdown",
   "id": "df07d384",
   "metadata": {},
   "source": [
    "**ALMOST THERE: Given an integer `n`, return `True` if `n` is within 10 of either 100 or 200.**\n",
    "\n",
    "`almost_there(90)` --> `True`  \n",
    "`almost_there(104)` --> `True`  \n",
    "`almost_there(150)` --> `False`  \n",
    "`almost_there(209)` --> `False`\n",
    "\n",
    "NOTE: `abs(num)` returns the absolute value of a number."
   ]
  },
  {
   "cell_type": "code",
   "execution_count": 21,
   "id": "c1913e3f",
   "metadata": {},
   "outputs": [],
   "source": [
    "def almost_there(n):\n",
    "    return (abs(100 - n) <= 10) or (abs(200 - n) <= 10)"
   ]
  },
  {
   "cell_type": "markdown",
   "id": "8808093e",
   "metadata": {},
   "source": [
    "# Level 2 Problems\n",
    "\n",
    "**Find 33:**\n",
    "\n",
    "Given a list of `ints`, return `True` if the array contains a 3 next to a 3 somewhere.\n",
    "\n",
    "`has_33([1, 3, 3])` -> `True`  \n",
    "`has_33([1, 3, 1, 3])` -> `False`  \n",
    "`has_33([3, 1, 3])` -> `False`"
   ]
  },
  {
   "cell_type": "code",
   "execution_count": 31,
   "id": "4335a5de",
   "metadata": {},
   "outputs": [
    {
     "data": {
      "text/plain": [
       "True"
      ]
     },
     "execution_count": 31,
     "metadata": {},
     "output_type": "execute_result"
    }
   ],
   "source": [
    "def has_33(nums):\n",
    "    for i in range(0, len(nums) - 1):\n",
    "        if nums[i] == 3 and nums[i+1] == 3:\n",
    "            return True\n",
    "    return False\n",
    "        \n",
    "has_33([1, 3, 3])"
   ]
  },
  {
   "cell_type": "markdown",
   "id": "b20cc0e9",
   "metadata": {},
   "source": [
    "**PAPER DOLL: Given a string, return a string where for every character in the original there are three characters.\n",
    "\n",
    "`paper_doll('Hello')` --> `'HHHeeellllllooo'`  \n",
    "`paper_doll('Mississippi')` --> `'MMMiiissssssiiissssssiiippppppiii'`"
   ]
  },
  {
   "cell_type": "code",
   "execution_count": 48,
   "id": "f1ade7be",
   "metadata": {},
   "outputs": [
    {
     "data": {
      "text/plain": [
       "'HHHeeellllllooo'"
      ]
     },
     "execution_count": 48,
     "metadata": {},
     "output_type": "execute_result"
    }
   ],
   "source": [
    "def paper_doll(text):\n",
    "    new_str = ''\n",
    "    for letter in text:\n",
    "        new_str = new_str + (letter * 3)\n",
    "    return new_str\n",
    "\n",
    "paper_doll('Hello')"
   ]
  },
  {
   "cell_type": "markdown",
   "id": "65cc0d70",
   "metadata": {},
   "source": [
    "**BLACKJACK: Given 3 integers between 1 and 11, if their sum is less than or equal to 21, return their sum.  \n",
    "If their sum exceeds 21 and there's an 11, reduce the total sum by 10.  \n",
    "Finally, if the sum (even after adjustment) exceeds 21, return 'BUST'.**\n",
    "\n",
    "`blackjack(5,6,7)` --> 18  \n",
    "`blackjack(9,9,9)` --> BUST  \n",
    "`blackjack(9,9,11)` --> 19"
   ]
  },
  {
   "cell_type": "code",
   "execution_count": 52,
   "id": "146a481c",
   "metadata": {},
   "outputs": [
    {
     "data": {
      "text/plain": [
       "18"
      ]
     },
     "execution_count": 52,
     "metadata": {},
     "output_type": "execute_result"
    }
   ],
   "source": [
    "def blackjack(a,b,c):\n",
    "    sum = (a+b+c)\n",
    "    if sum <= 21:\n",
    "        return sum\n",
    "    elif sum > 21 and (a == 11 or b == 11 or c == 11):\n",
    "        sum -= 10\n",
    "    elif sum > 21:\n",
    "        return 'BUST'\n",
    "    return sum\n",
    "\n",
    "blackjack(5,6,7)"
   ]
  },
  {
   "cell_type": "code",
   "execution_count": 53,
   "id": "81bd3229",
   "metadata": {},
   "outputs": [
    {
     "data": {
      "text/plain": [
       "'BUST'"
      ]
     },
     "execution_count": 53,
     "metadata": {},
     "output_type": "execute_result"
    }
   ],
   "source": [
    "blackjack(9,9,9)"
   ]
  },
  {
   "cell_type": "code",
   "execution_count": 54,
   "id": "559b8573",
   "metadata": {},
   "outputs": [
    {
     "data": {
      "text/plain": [
       "19"
      ]
     },
     "execution_count": 54,
     "metadata": {},
     "output_type": "execute_result"
    }
   ],
   "source": [
    "blackjack(9,9,11)"
   ]
  },
  {
   "cell_type": "markdown",
   "id": "52a293ae",
   "metadata": {},
   "source": [
    "**SUMMER OF '69: Return the sum of the numbers in the array, except ignore sections of numbers starting with a 6 and extending to the next 9 (every 6 will be followed by at least one 9). Return 0 for no numbers.**\n",
    "\n",
    "`summer_69([1, 3, 5])` --> 9  \n",
    "`summer_69([4, 5, 6, 7, 8, 9])` --> 9  \n",
    "`summer_69([2, 1, 6, 9, 11])` --> 14"
   ]
  },
  {
   "cell_type": "code",
   "execution_count": 69,
   "id": "2488278e",
   "metadata": {},
   "outputs": [
    {
     "data": {
      "text/plain": [
       "14"
      ]
     },
     "execution_count": 69,
     "metadata": {},
     "output_type": "execute_result"
    }
   ],
   "source": [
    "def summer_69(arr):\n",
    "    total = 0\n",
    "    add = True\n",
    "    \n",
    "    for num in arr:\n",
    "        while add:\n",
    "            if num != 6:\n",
    "                total += num\n",
    "                break\n",
    "            else:\n",
    "                add = False\n",
    "        while not add:\n",
    "            if num != 9:\n",
    "                break\n",
    "            else:\n",
    "                add = True\n",
    "                break\n",
    "    return total\n",
    "\n",
    "summer_69([2, 1, 6, 9, 11])"
   ]
  },
  {
   "cell_type": "markdown",
   "id": "98947cb8",
   "metadata": {},
   "source": [
    "**SPY GAME: Write a function that takes in a list of integers and returns `True` if it contains 007 in order.**\n",
    "\n",
    "`spy_game([1, 2, 4, 0, 0, 7, 5])` --> True  \n",
    "`spy_game([1, 0, 2, 4, 0, 5, 7])` --> True  \n",
    "`spy_game([1, 7, 2, 0, 4, 5, 0])` --> False"
   ]
  },
  {
   "cell_type": "code",
   "execution_count": 16,
   "id": "c09bfd4d",
   "metadata": {},
   "outputs": [
    {
     "data": {
      "text/plain": [
       "True"
      ]
     },
     "execution_count": 16,
     "metadata": {},
     "output_type": "execute_result"
    }
   ],
   "source": [
    "# Our solution\n",
    "def spy_game(nums):\n",
    "    new_str = ''\n",
    "    for num in nums:\n",
    "        if num == 0:\n",
    "            new_str += str(num)\n",
    "            pass\n",
    "        if num == 7:\n",
    "            new_str += str(num)\n",
    "    if new_str == '007':\n",
    "        return True\n",
    "    return False\n",
    "\n",
    "# Lecture solution\n",
    "def spy_game(nums):\n",
    "    code = [0,0,7,'x']\n",
    "    for num in nums:\n",
    "        if num == code[0]:\n",
    "            code.pop(0)\n",
    "    return len(code) == 1\n",
    "\n",
    "spy_game([1, 7, 2, 0, 4, 5, 0])\n",
    "spy_game([1, 0, 2, 4, 0, 5, 7])\n",
    "spy_game([1, 2, 4, 0, 0, 7, 5])"
   ]
  },
  {
   "cell_type": "markdown",
   "id": "7806653c",
   "metadata": {},
   "source": [
    "**COUNT PRIMES: Write a function that returns the number of prime numbers that exist up to and including a given number.**\n",
    "\n",
    "By convention we'll treat 0 and 1 as not prime.\n",
    "\n",
    "`count_primes(100)` --> 25"
   ]
  },
  {
   "cell_type": "code",
   "execution_count": 23,
   "id": "aa76907c",
   "metadata": {},
   "outputs": [
    {
     "name": "stdout",
     "output_type": "stream",
     "text": [
      "[2, 3, 5, 7, 11, 13, 17, 19, 23, 29, 31, 37, 41, 43, 47, 53, 59, 61, 67, 71, 73, 79, 83, 89, 97]\n"
     ]
    },
    {
     "data": {
      "text/plain": [
       "25"
      ]
     },
     "execution_count": 23,
     "metadata": {},
     "output_type": "execute_result"
    }
   ],
   "source": [
    "def count_primes(num):\n",
    "    \n",
    "    # Check for 0 or 1 input\n",
    "    if num < 2:\n",
    "        return 0\n",
    "    \n",
    "    # 2 or greater\n",
    "    # Store prime numbers\n",
    "    primes = [2];\n",
    "    # Counter going up to the input num\n",
    "    x = 3\n",
    "    # x is going through every number up to input num\n",
    "    while x <= num:\n",
    "        # Check if x is prime\n",
    "        for y in range(3,x,2):\n",
    "            if x % y == 0:\n",
    "                x += 2\n",
    "                break\n",
    "        else:\n",
    "            primes.append(x)\n",
    "            x += 2\n",
    "    print(primes)\n",
    "    return len(primes)\n",
    "\n",
    "count_primes(100)"
   ]
  },
  {
   "cell_type": "markdown",
   "id": "6fde51a8",
   "metadata": {},
   "source": [
    "## Lambda Expressions, Map, and Filter Functions"
   ]
  },
  {
   "cell_type": "markdown",
   "id": "79b5a28d",
   "metadata": {},
   "source": [
    "### Map"
   ]
  },
  {
   "cell_type": "code",
   "execution_count": 24,
   "id": "72cadb21",
   "metadata": {},
   "outputs": [],
   "source": [
    "def square(num):\n",
    "    return num**2"
   ]
  },
  {
   "cell_type": "code",
   "execution_count": 25,
   "id": "dea0cf25",
   "metadata": {},
   "outputs": [],
   "source": [
    "my_nums = [1,2,3,4,5]"
   ]
  },
  {
   "cell_type": "code",
   "execution_count": 26,
   "id": "8ef9b741",
   "metadata": {},
   "outputs": [
    {
     "name": "stdout",
     "output_type": "stream",
     "text": [
      "1\n",
      "4\n",
      "9\n",
      "16\n",
      "25\n"
     ]
    }
   ],
   "source": [
    "for item in map(square, my_nums):\n",
    "    print(item)"
   ]
  },
  {
   "cell_type": "code",
   "execution_count": 27,
   "id": "e02c8934",
   "metadata": {},
   "outputs": [
    {
     "data": {
      "text/plain": [
       "[1, 4, 9, 16, 25]"
      ]
     },
     "execution_count": 27,
     "metadata": {},
     "output_type": "execute_result"
    }
   ],
   "source": [
    "list(map(square, my_nums))"
   ]
  },
  {
   "cell_type": "code",
   "execution_count": 28,
   "id": "7bb4ca36",
   "metadata": {},
   "outputs": [],
   "source": [
    "def splicer(my_string):\n",
    "    if len(my_string) % 2 == 0:\n",
    "        return 'EVEN'\n",
    "    else:\n",
    "        return my_string[0]"
   ]
  },
  {
   "cell_type": "code",
   "execution_count": 32,
   "id": "54481286",
   "metadata": {},
   "outputs": [],
   "source": [
    "names = ['Andy', 'Eve', 'Sally']"
   ]
  },
  {
   "cell_type": "code",
   "execution_count": 33,
   "id": "5f1e1b68",
   "metadata": {},
   "outputs": [
    {
     "data": {
      "text/plain": [
       "['EVEN', 'E', 'S']"
      ]
     },
     "execution_count": 33,
     "metadata": {},
     "output_type": "execute_result"
    }
   ],
   "source": [
    "list(map(splicer, names))"
   ]
  },
  {
   "cell_type": "markdown",
   "id": "67432959",
   "metadata": {},
   "source": [
    "### Filter"
   ]
  },
  {
   "cell_type": "code",
   "execution_count": 34,
   "id": "7884e1f9",
   "metadata": {},
   "outputs": [],
   "source": [
    "def check_even(num):\n",
    "    return num % 2 == 0"
   ]
  },
  {
   "cell_type": "code",
   "execution_count": 35,
   "id": "64b7b013",
   "metadata": {},
   "outputs": [],
   "source": [
    "my_nums = [1,2,3,4,5,6]"
   ]
  },
  {
   "cell_type": "code",
   "execution_count": 37,
   "id": "2197359c",
   "metadata": {},
   "outputs": [
    {
     "data": {
      "text/plain": [
       "[2, 4, 6]"
      ]
     },
     "execution_count": 37,
     "metadata": {},
     "output_type": "execute_result"
    }
   ],
   "source": [
    "list(filter(check_even, my_nums))"
   ]
  },
  {
   "cell_type": "markdown",
   "id": "cd9af8b2",
   "metadata": {},
   "source": [
    "### Lambda Expression"
   ]
  },
  {
   "cell_type": "code",
   "execution_count": 38,
   "id": "5119ad8a",
   "metadata": {},
   "outputs": [],
   "source": [
    "def square(num):\n",
    "    result = num ** 2\n",
    "    return result"
   ]
  },
  {
   "cell_type": "code",
   "execution_count": 39,
   "id": "ac4edf9e",
   "metadata": {},
   "outputs": [
    {
     "data": {
      "text/plain": [
       "9"
      ]
     },
     "execution_count": 39,
     "metadata": {},
     "output_type": "execute_result"
    }
   ],
   "source": [
    "square(3)"
   ]
  },
  {
   "cell_type": "code",
   "execution_count": 42,
   "id": "cccd4f4e",
   "metadata": {},
   "outputs": [],
   "source": [
    "# Converted into a lambda expression\n",
    "square = lambda num: num ** 2"
   ]
  },
  {
   "cell_type": "code",
   "execution_count": 43,
   "id": "3f3183d0",
   "metadata": {},
   "outputs": [
    {
     "data": {
      "text/plain": [
       "25"
      ]
     },
     "execution_count": 43,
     "metadata": {},
     "output_type": "execute_result"
    }
   ],
   "source": [
    "square(5)"
   ]
  },
  {
   "cell_type": "markdown",
   "id": "eab27564",
   "metadata": {},
   "source": [
    "### Lambda Expressions with Map & Filter"
   ]
  },
  {
   "cell_type": "code",
   "execution_count": 44,
   "id": "e384dc77",
   "metadata": {},
   "outputs": [
    {
     "data": {
      "text/plain": [
       "[1, 4, 9, 16, 25, 36]"
      ]
     },
     "execution_count": 44,
     "metadata": {},
     "output_type": "execute_result"
    }
   ],
   "source": [
    "list(map(lambda num: num**2, my_nums))"
   ]
  },
  {
   "cell_type": "code",
   "execution_count": 45,
   "id": "c76e0f87",
   "metadata": {},
   "outputs": [
    {
     "data": {
      "text/plain": [
       "[2, 4, 6]"
      ]
     },
     "execution_count": 45,
     "metadata": {},
     "output_type": "execute_result"
    }
   ],
   "source": [
    "list(filter(lambda num: num % 2 == 0, my_nums))"
   ]
  },
  {
   "cell_type": "code",
   "execution_count": 48,
   "id": "6f451b97",
   "metadata": {},
   "outputs": [
    {
     "name": "stdout",
     "output_type": "stream",
     "text": [
      "['Andy', 'Eve', 'Sally']\n"
     ]
    }
   ],
   "source": [
    "print(names)"
   ]
  },
  {
   "cell_type": "code",
   "execution_count": 47,
   "id": "11b69006",
   "metadata": {},
   "outputs": [
    {
     "data": {
      "text/plain": [
       "['ydnA', 'evE', 'yllaS']"
      ]
     },
     "execution_count": 47,
     "metadata": {},
     "output_type": "execute_result"
    }
   ],
   "source": [
    "list(map(lambda name: name[::-1], names))"
   ]
  },
  {
   "cell_type": "markdown",
   "id": "6e9dd84e",
   "metadata": {},
   "source": [
    "## Nested Statements and Scope"
   ]
  },
  {
   "cell_type": "code",
   "execution_count": 49,
   "id": "91914f04",
   "metadata": {},
   "outputs": [],
   "source": [
    "x = 25\n",
    "\n",
    "def printer():\n",
    "    x = 50\n",
    "    return x"
   ]
  },
  {
   "cell_type": "code",
   "execution_count": 50,
   "id": "a6e852c4",
   "metadata": {},
   "outputs": [
    {
     "name": "stdout",
     "output_type": "stream",
     "text": [
      "25\n"
     ]
    }
   ],
   "source": [
    "print(x)"
   ]
  },
  {
   "cell_type": "code",
   "execution_count": 51,
   "id": "e34a1c25",
   "metadata": {},
   "outputs": [
    {
     "name": "stdout",
     "output_type": "stream",
     "text": [
      "50\n"
     ]
    }
   ],
   "source": [
    "print(printer())"
   ]
  },
  {
   "cell_type": "markdown",
   "id": "7be4e449",
   "metadata": {},
   "source": [
    "## LEGB Rule:\n",
    "* L: Local - Names assigned in any way within a function (`def` or `lambda`), and not declared global in that function.  \n",
    "* E: Enclosing function locals - Names in the local scope of any and all enclosing functions (`def` or `lambda`), from inner to outer.\n",
    "* G: \n",
    "* B:"
   ]
  },
  {
   "cell_type": "code",
   "execution_count": 56,
   "id": "88e1a375",
   "metadata": {},
   "outputs": [],
   "source": [
    "# GLOBAL\n",
    "name = 'THIS IS A GLOBAL STRING'\n",
    "\n",
    "def greet():\n",
    "    # ENCLOSING\n",
    "    name = 'Sammy'\n",
    "    \n",
    "    def hello():\n",
    "        # LOCAL\n",
    "        name = 'IM A LOCAL'\n",
    "        print('Hello ' + name)\n",
    "        \n",
    "    hello()"
   ]
  },
  {
   "cell_type": "code",
   "execution_count": 57,
   "id": "9e995326",
   "metadata": {},
   "outputs": [
    {
     "name": "stdout",
     "output_type": "stream",
     "text": [
      "Hello IM A LOCAL\n"
     ]
    }
   ],
   "source": [
    "greet()"
   ]
  },
  {
   "cell_type": "code",
   "execution_count": 70,
   "id": "44504d65",
   "metadata": {},
   "outputs": [],
   "source": [
    "x = 50\n",
    "\n",
    "def func():\n",
    "    global x\n",
    "    print(f'X is {x}')\n",
    "    \n",
    "    # LOCAL REASSIGNMENT ON A GLOBAL VARIABLE\n",
    "    x = 'NEW VALUE'\n",
    "    print(f'I JUST LOCALLY CHANGED GLOBAL X TO {x}')"
   ]
  },
  {
   "cell_type": "code",
   "execution_count": 71,
   "id": "625eadc4",
   "metadata": {
    "scrolled": true
   },
   "outputs": [
    {
     "name": "stdout",
     "output_type": "stream",
     "text": [
      "X is 50\n",
      "I JUST LOCALLY CHANGED GLOBAL X TO NEW VALUE\n"
     ]
    }
   ],
   "source": [
    "func()"
   ]
  },
  {
   "cell_type": "code",
   "execution_count": 73,
   "id": "b66406c3",
   "metadata": {},
   "outputs": [
    {
     "name": "stdout",
     "output_type": "stream",
     "text": [
      "NEW VALUE\n"
     ]
    }
   ],
   "source": [
    "print(x)"
   ]
  },
  {
   "cell_type": "markdown",
   "id": "ebe2c37d",
   "metadata": {},
   "source": [
    "## Functions * Methods Homework\n",
    "\n",
    "**Write a function that computes the volume of a sphere given its radius.**  \n",
    "The volume of a sphere is given as `(4/3) * pi * r^3`"
   ]
  },
  {
   "cell_type": "code",
   "execution_count": 1,
   "id": "24a8e3d3",
   "metadata": {},
   "outputs": [
    {
     "data": {
      "text/plain": [
       "33.49333333333333"
      ]
     },
     "execution_count": 1,
     "metadata": {},
     "output_type": "execute_result"
    }
   ],
   "source": [
    "def vol(rad):\n",
    "    return (4/3) * 3.14 * (rad**3)\n",
    "\n",
    "vol(2)"
   ]
  },
  {
   "cell_type": "markdown",
   "id": "34d90637",
   "metadata": {},
   "source": [
    "**Write a function that checks whether a number is in a given range    (inclusive of high and low).**"
   ]
  },
  {
   "cell_type": "code",
   "execution_count": 7,
   "id": "dbde102c",
   "metadata": {},
   "outputs": [
    {
     "data": {
      "text/plain": [
       "False"
      ]
     },
     "execution_count": 7,
     "metadata": {},
     "output_type": "execute_result"
    }
   ],
   "source": [
    "def ran_check(num, low, high):\n",
    "    if num >= low and num <= high:\n",
    "        # return f'{num} in in the range between {low} and {high}'\n",
    "        print(f'{num} is in the range between {low} and {high}')\n",
    "    else:\n",
    "        print(f'{num} is not in the range between {low} and {high}')\n",
    "        \n",
    "def ran_bool(num, low, high):\n",
    "    if num >= low and num <= high:\n",
    "        return True\n",
    "    else:\n",
    "        return False\n",
    "    \n",
    "ran_check(5, 2, 7)\n",
    "ran_check(5, 5, 7)\n",
    "ran_check(5, 6, 7)"
   ]
  },
  {
   "cell_type": "markdown",
   "id": "5ab2d97f",
   "metadata": {},
   "source": [
    "**Write a Python function that accepts a string and calculates the number of upper case letters and lower case letters.**\n",
    "\n",
    "Sample String : `'Hello Mr. Rogers, how are you this fine Tuesday?'`  \n",
    "Expected Output :  \n",
    "`No. of Upper case characters : 4`  \n",
    "`No. of Lower case characters : 33`\n",
    "\n",
    "HINT: Two string methods that might prove useful: `.isupper()` and `.islower()`.\n",
    "\n",
    "If you feel amitious, explore the Collections module to solve this problem."
   ]
  },
  {
   "cell_type": "code",
   "execution_count": 11,
   "id": "31348681",
   "metadata": {},
   "outputs": [],
   "source": [
    "def up_low(s):\n",
    "    lower_letters = 0\n",
    "    upper_letters = 0\n",
    "    for letter in s:\n",
    "        if letter.islower():\n",
    "            lower_letters += 1\n",
    "        elif letter.isupper():\n",
    "            upper_letters += 1\n",
    "        else:\n",
    "            pass\n",
    "    print(f'No. of Upper case characters : {upper_letters}\\nNo. of Lower case characters : {lower_letters}')\n",
    "    \n",
    "# dictionary method\n",
    "def up_low(s):\n",
    "    d = {'upper': 0, 'lower': 0}\n",
    "    for char in s:\n",
    "        if char.isupper():\n",
    "            d['upper'] += 1\n",
    "        elif char.islower():\n",
    "            d['lower'] += 1\n",
    "        else:\n",
    "            pass\n",
    "    # print(f'No. of Upper case characters : {d[upper']}\\nNo. of Lower case characters : {d['lower']}')"
   ]
  },
  {
   "cell_type": "code",
   "execution_count": 12,
   "id": "7d46d427",
   "metadata": {},
   "outputs": [],
   "source": [
    "up_low('Hello Mr. Rogers, how are you this fine Tuesday?')"
   ]
  },
  {
   "cell_type": "markdown",
   "id": "62b91e1a",
   "metadata": {},
   "source": [
    "**Write a Python function that takes a list and returns a new list with unique elements of the first list.**\n",
    "\n",
    "Sample List : `[1,1,1,1,2,2,3,3,3,3,4,5]`  \n",
    "Unique List : `[1,2,3,4,5]`"
   ]
  },
  {
   "cell_type": "code",
   "execution_count": 18,
   "id": "256564da",
   "metadata": {},
   "outputs": [
    {
     "data": {
      "text/plain": [
       "[1, 2, 3, 4, 5]"
      ]
     },
     "execution_count": 18,
     "metadata": {},
     "output_type": "execute_result"
    }
   ],
   "source": [
    "def unique_list(ls):\n",
    "    return list(set(ls))\n",
    "\n",
    "unique_list([1,1,1,1,2,2,3,3,3,3,4,5])"
   ]
  },
  {
   "cell_type": "markdown",
   "id": "bdc4eddb",
   "metadata": {},
   "source": [
    "**Write a Python function to multiply all the numbers in a list.**\n",
    "\n",
    "Sample List : `[1,2,3,-4]`  \n",
    "Expected Output : `-24`"
   ]
  },
  {
   "cell_type": "code",
   "execution_count": 29,
   "id": "725ef2a7",
   "metadata": {},
   "outputs": [
    {
     "data": {
      "text/plain": [
       "-24"
      ]
     },
     "execution_count": 29,
     "metadata": {},
     "output_type": "execute_result"
    }
   ],
   "source": [
    "def multiply(numbers):\n",
    "    product = numbers[0] # hy is nou 1\n",
    "    for n in numbers:\n",
    "        product *= n\n",
    "    return product\n",
    "    \n",
    "multiply([1,2,3,-4])"
   ]
  },
  {
   "cell_type": "markdown",
   "id": "f7188e38",
   "metadata": {},
   "source": [
    "**Write a Python function that checks whether a word or phrase is a palindrome or not.**\n",
    "\n",
    "Note: A Palindrome is a word, phrase, or sequence that reads the same backwards as forwards, e.g., madam, kayak, racecar, or a phrase \"nurses run\".  \n",
    "HINT: You may want to check out the `.replace()` method in a string to help out with dealing with spaces.  \n",
    "Also google search how to reverse a string in Python, there are some clever ways to do it with slicing notation."
   ]
  },
  {
   "cell_type": "code",
   "execution_count": 37,
   "id": "699d6ad7",
   "metadata": {},
   "outputs": [
    {
     "data": {
      "text/plain": [
       "True"
      ]
     },
     "execution_count": 37,
     "metadata": {},
     "output_type": "execute_result"
    }
   ],
   "source": [
    "def palindrome(s):\n",
    "    s = s.replace(' ', '')\n",
    "    return s == s[::-1]\n",
    "\n",
    "palindrome('nurses run')"
   ]
  },
  {
   "cell_type": "markdown",
   "id": "d6fbb114",
   "metadata": {},
   "source": [
    "**Hard:  \n",
    "Write a Python function to check whether a string is a pangram or not.**\n",
    "\n",
    "Note : Pangrams are words or sentences containing every letter of the alphabet at least once.\n",
    "\n",
    "For example : `\"The quick brown fox jumps over the lazy dog\"`\n",
    "\n",
    "HINT: Look at the string module"
   ]
  },
  {
   "cell_type": "code",
   "execution_count": 41,
   "id": "a404fef7",
   "metadata": {},
   "outputs": [
    {
     "data": {
      "text/plain": [
       "True"
      ]
     },
     "execution_count": 41,
     "metadata": {},
     "output_type": "execute_result"
    }
   ],
   "source": [
    "import string\n",
    "\n",
    "def ispangram(str1, alphabet=string.ascii_lowercase):\n",
    "    for letter in alphabet:\n",
    "        if letter in str1:\n",
    "            return True\n",
    "    return False\n",
    "        \n",
    "ispangram('The quick brown fox jumps over the lazy dog')\n",
    "ispangram('Waltz, nymph, for quick jigs vex Bud')\n",
    "\n",
    "# set comparison\n",
    "def ispangram(str1, alphabet=string.ascii_lowercase):\n",
    "    # Create a set of the alphabet\n",
    "    alphaset = set(alphabet)\n",
    "    \n",
    "    # Remove any spaces from the input string\n",
    "    str1 = str1.replace(' ', '')\n",
    "    \n",
    "    # Convert into all lowercase\n",
    "    str1 = str1.lower()\n",
    "    \n",
    "    # Grab all unique letters from the string set()\n",
    "    str1 = set(str1)\n",
    "    \n",
    "    # alphabet set === string set input\n",
    "    return str1 == alphabet"
   ]
  },
  {
   "cell_type": "code",
   "execution_count": null,
   "id": "5aaca801",
   "metadata": {},
   "outputs": [],
   "source": []
  }
 ],
 "metadata": {
  "kernelspec": {
   "display_name": "Python 3",
   "language": "python",
   "name": "python3"
  },
  "language_info": {
   "codemirror_mode": {
    "name": "ipython",
    "version": 3
   },
   "file_extension": ".py",
   "mimetype": "text/x-python",
   "name": "python",
   "nbconvert_exporter": "python",
   "pygments_lexer": "ipython3",
   "version": "3.8.8"
  }
 },
 "nbformat": 4,
 "nbformat_minor": 5
}
